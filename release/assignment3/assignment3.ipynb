{
 "cells": [
  {
   "cell_type": "markdown",
   "metadata": {},
   "source": [
    "# Programming in Python for Data Science \n",
    "\n",
    "# Assignment 3: Tidy Data and Joining Dataframes"
   ]
  },
  {
   "cell_type": "markdown",
   "metadata": {},
   "source": [
    "You can't learn technical subjects without hands-on practice. The assignments are an important part of the course. To submit this assignment you will need to make sure that you save your Jupyter notebook. \n",
    "\n",
    "Below are the links of 2 videos that explain:\n",
    "\n",
    "1. [How to save your Jupyter notebook](https://youtu.be/0aoLgBoAUSA) and,       \n",
    "2. [How to answer a question in a Jupyter notebook assignment](https://youtu.be/7j0WKhI3W4s)."
   ]
  },
  {
   "cell_type": "markdown",
   "metadata": {},
   "source": [
    "### Assignment Learning Goals:\n",
    "\n",
    "By the end of the module, students are expected to:\n",
    "\n",
    "- Explain what tidy data is.\n",
    "- Use [`.melt()`](https://pandas.pydata.org/docs/reference/api/pandas.melt.html) and [`.pivot()`](https://pandas.pydata.org/pandas-docs/stable/reference/api/pandas.DataFrame.pivot.html) to reshape dataframes, specifically to make tidy data.\n",
    "- Learn how to reset a dataframe's index.\n",
    "- Combine dataframes using [`.merge()`](https://pandas.pydata.org/pandas-docs/stable/reference/api/pandas.DataFrame.merge.html) and [`.concat()`](https://pandas.pydata.org/pandas-docs/stable/reference/api/pandas.concat.html) and know when to use these different methods.\n",
    "- Understand the different joining methods.\n",
    "\n",
    "This assignment covers [Module 3](https://prog-learn.mds.ubc.ca/en/module3) of the online course. You should complete this module before attempting this assignment."
   ]
  },
  {
   "cell_type": "markdown",
   "metadata": {},
   "source": [
    "Any place you see `...`, you must fill in the function, variable, or data to complete the code. Substitute the `None` and the `raise NotImplementedError # No Answer - remove if you provide an answer` with your completed code and answers then proceed to run the cell!"
   ]
  },
  {
   "cell_type": "markdown",
   "metadata": {},
   "source": [
    "Note that some of the questions in this assignment will have hidden tests. This means that no feedback will be given as to the correctness of your solution. It will be left up to you to decide if your answer is sufficiently correct. These questions are worth 2 points."
   ]
  },
  {
   "cell_type": "code",
   "execution_count": null,
   "metadata": {},
   "outputs": [],
   "source": [
    "# Import libraries needed for this lab\n",
    "from hashlib import sha1\n",
    "import pandas as pd\n",
    "import test_assignment3 as t\n",
    "import altair as alt"
   ]
  },
  {
   "cell_type": "markdown",
   "metadata": {},
   "source": [
    "## 1.  Tidy Data"
   ]
  },
  {
   "cell_type": "markdown",
   "metadata": {},
   "source": [
    "**Question 1(a)** <br> {points: 1}  \n",
    "\n",
    "Which of the following do **NOT** characterize a tidy dataset? *note - there may be more than 1 correct answers to this question*\n",
    "\n",
    "A) Each row is a single variable\n",
    "\n",
    "B) There are no missing or erroneous values\n",
    "\n",
    "C) Each value is a single cell\n",
    "\n",
    "D) Each variable is a single column\n",
    "\n",
    "_Assign your answer to an object called `answer1_a` in the code chunk below. Make sure your answer contains uppercase letters and surround it with quotation marks and square brackets.  If there are more than one answers to this question, separate each letter with a comma within the square brackets. For example if you believe the answer is A, B and C your answer would like this:      \n",
    "`answer1_a = ['A', 'B', 'C')`_\n"
   ]
  },
  {
   "cell_type": "code",
   "execution_count": null,
   "metadata": {
    "deletable": false,
    "nbgrader": {
     "cell_type": "code",
     "checksum": "7cd7543a8d4c857330d86e7e36a3935f",
     "grade": false,
     "grade_id": "cell-885c670d16b8075a",
     "locked": false,
     "schema_version": 3,
     "solution": true,
     "task": false
    }
   },
   "outputs": [],
   "source": [
    "answer1_a = None\n",
    "\n",
    "# your code here\n",
    "raise NotImplementedError # No Answer - remove if you provide an answer"
   ]
  },
  {
   "cell_type": "code",
   "execution_count": null,
   "metadata": {
    "deletable": false,
    "editable": false,
    "nbgrader": {
     "cell_type": "code",
     "checksum": "f7f9d600dc1f116ba80b8556b5682440",
     "grade": true,
     "grade_id": "cell-b9575c023870ca02",
     "locked": true,
     "points": 1,
     "schema_version": 3,
     "solution": false,
     "task": false
    }
   },
   "outputs": [],
   "source": [
    "t.test_1a(answer1_a)"
   ]
  },
  {
   "cell_type": "markdown",
   "metadata": {},
   "source": [
    "**Question 1(b)** \n",
    "<br> {points: 1}  \n",
    "\n",
    "The data below is wine ratings given for 3 wines by 5 different wine tasters. We are interested in seeing if Taster or Wine type influences the rating.  Given that motivation, which arrangement of the data set show below is \"tidy\"?\n",
    "\n",
    "##### Data set 1:\n",
    "\n",
    "|     Taster       | Chardonnay | Pinot Grigio | Pinot Blanc |\n",
    "|------------|------------|--------------|-----------------|\n",
    "| 001 | 75         | 89           | 92              |\n",
    "| 002 | 89         | 88           | 89              |\n",
    "| 003 | 72         | 90           | 95              |\n",
    "| 004 | 85         | 81           | 90              |\n",
    "| 005 | 83         | 89           | 88              |\n",
    "\n",
    "\n",
    "##### Data set 2:\n",
    "|   Wine | Taster 001 | Taster 002 | Taster 003 | Taster 004 | Taster 005 |\n",
    "|------------|------------|--------------|-----------------|-------|---------|\n",
    "| Chardonnay | 75         | 89           | 72              | 85 | 83\n",
    "| Pinot Grigio | 89         | 88           | 90             | 81 | 89 |\n",
    "| Pinot Blanc | 92         | 89           | 95              | 90 | 88 |\n",
    "\n",
    "##### Data set 3:\n",
    "\n",
    "| Taster           | Wine | Rating | \n",
    "|------------|------------|----|\n",
    "| 001 |  Chardonnay |  75         | \n",
    "| 002 |  Chardonnay | 89         | \n",
    "| 003 |  Chardonnay |72         |  \n",
    "| 004 |  Chardonnay |85         | \n",
    "| 005 | Chardonnay | 83         |  \n",
    "| 001 |  Pinot Grigio | 89         | \n",
    "| 002 |  Pinot Grigio | 88         | \n",
    "| 003 |  Pinot Grigio | 90         | \n",
    "| 004 |  Pinot Grigio | 81         | \n",
    "| 005 |  Pinot Grigio | 90         | \n",
    "| 001 |  Pinot Blanc | 92         | \n",
    "| 002 | Pinot Blanc | 89         |\n",
    "| 003 | Pinot Blanc | 95         | \n",
    "| 004 | Pinot Blanc | 90         | \n",
    "| 005 | Pinot Blanc | 88         | \n",
    "\n",
    "##### Data set 4: \n",
    "| Taster    | Chardonnay Rating | \n",
    "|------------|------------|\n",
    "| 001 |  75         | \n",
    "| 002 |   89         | \n",
    "| 003 |  72         |  \n",
    "| 004 | 85         | \n",
    "| 005 | 83         |  \n",
    "\n",
    "| Taster           | Pinot Grigio Rating | \n",
    "|------------|------------|\n",
    "| 001 |   89         | \n",
    "| 002 |  88         | \n",
    "| 003 |  90         | \n",
    "| 004 | 81         | \n",
    "| 005 |  90         | \n",
    "\n",
    "| Taster           | Pinot Blanc Rating | \n",
    "|------------|------------|\n",
    "| 001 |   92         | \n",
    "| 002 |  89         |\n",
    "| 003 |  95         | \n",
    "| 004 |  90         | \n",
    "| 005 |  88         | \n",
    "\n",
    "Given that motivation, which arrangement of the data set show below is \"tidy\"?\n",
    "\n",
    "_Assign your answer to an object called `answer1_b` in the code chunk below. Make sure your answer is surrounded by square brackets. If there are more than one answers to this question, separate each number with a comma in the square brackets. For example if you believe the answer is 1, 2 and 3 your answer would like this:   \n",
    "`answer1_b = [1, 2, 3)`_\n",
    "\n"
   ]
  },
  {
   "cell_type": "code",
   "execution_count": null,
   "metadata": {
    "deletable": false,
    "nbgrader": {
     "cell_type": "code",
     "checksum": "706f53baa2e668418dc32008a033fadd",
     "grade": false,
     "grade_id": "cell-056483e434ae664a",
     "locked": false,
     "schema_version": 3,
     "solution": true,
     "task": false
    }
   },
   "outputs": [],
   "source": [
    "answer1_b = None\n",
    "\n",
    "# your code here\n",
    "raise NotImplementedError # No Answer - remove if you provide an answer"
   ]
  },
  {
   "cell_type": "code",
   "execution_count": null,
   "metadata": {
    "deletable": false,
    "editable": false,
    "nbgrader": {
     "cell_type": "code",
     "checksum": "ae8b71690c53a76d773fd3a242f55d46",
     "grade": true,
     "grade_id": "cell-e35eba9f97d1d7bf",
     "locked": true,
     "points": 1,
     "schema_version": 3,
     "solution": false,
     "task": false
    }
   },
   "outputs": [],
   "source": [
    "t.test_1b(answer1_b)"
   ]
  },
  {
   "cell_type": "markdown",
   "metadata": {},
   "source": [
    "**Question 1(c)** <br> {points: 2}  \n",
    "\n",
    "To answer the question, assign the letter associated with the correct answer to a variable in the code cell below:   \n",
    "\n",
    "Why is the primary goal of data wrangling getting dataframes into the tidy data format?\n",
    " \n",
    "A) Having data expressed in such a way, allows for easier readability and is more aesthetically pleasing. \n",
    "\n",
    "B) Tidy format uses less storage space on your computer. \n",
    "\n",
    "C) Many or most modern Data Science tools accept the tidy data format directly (or very close to that) and we need to get the data in a state ready for analysis.\n",
    "\n",
    "*Answer in the cell below using the uppercase letter associated with your answer. Place your answer between `\"\"`, assign the correct answer to an object called `answer1_c`.*\n"
   ]
  },
  {
   "cell_type": "code",
   "execution_count": null,
   "metadata": {
    "deletable": false,
    "nbgrader": {
     "cell_type": "code",
     "checksum": "f5eaa4a29c6aab1707fcd67dd4bdf777",
     "grade": false,
     "grade_id": "cell-c5a440fc14cdd03d",
     "locked": false,
     "schema_version": 3,
     "solution": true,
     "task": false
    }
   },
   "outputs": [],
   "source": [
    "answer1_c = None\n",
    "\n",
    "# your code here\n",
    "raise NotImplementedError # No Answer - remove if you provide an answer\n"
   ]
  },
  {
   "cell_type": "code",
   "execution_count": null,
   "metadata": {
    "deletable": false,
    "editable": false,
    "nbgrader": {
     "cell_type": "code",
     "checksum": "f28565910b7c085aac869f3d84020ebb",
     "grade": true,
     "grade_id": "cell-8277a8851358fbf9",
     "locked": true,
     "points": 2,
     "schema_version": 3,
     "solution": false,
     "task": false
    }
   },
   "outputs": [],
   "source": [
    "assert 'answer1_c' in locals(), \"Your answer should be named 'answer1_c'\"\n",
    "\n",
    "# Note that this test has been hidden intentionally.\n",
    "# It will provide no feedback as to the correctness of your answers.\n",
    "# Thus, it is up to you to decide if your answer is sufficiently correct."
   ]
  },
  {
   "cell_type": "markdown",
   "metadata": {},
   "source": [
    "**Question 1(d)** <br> {points: 1}  \n",
    "\n",
    "Use `.pivot()` or `.melt()` to tidy the `planes1` dataframe below to convert it to tidy data. Name the new dataframe `planes2`\n"
   ]
  },
  {
   "cell_type": "code",
   "execution_count": null,
   "metadata": {},
   "outputs": [],
   "source": [
    "flights = {'on_time': ['yes', 'no'],\n",
    "           'airline_US': [18, 17],\n",
    "           'airline_UA' : [13, 9]\n",
    "          }\n",
    "planes1 = pd.DataFrame(flights, columns = ['on_time', 'airline_US', 'airline_UA'])\n",
    "planes1\n"
   ]
  },
  {
   "cell_type": "code",
   "execution_count": null,
   "metadata": {
    "deletable": false,
    "nbgrader": {
     "cell_type": "code",
     "checksum": "c2bb064b39e89023b1d08e2c7992b888",
     "grade": false,
     "grade_id": "cell-2d6f65755b4e202b",
     "locked": false,
     "schema_version": 3,
     "solution": true,
     "task": false
    }
   },
   "outputs": [],
   "source": [
    "planes2 = None\n",
    "# your code here\n",
    "raise NotImplementedError # No Answer - remove if you provide an answer"
   ]
  },
  {
   "cell_type": "code",
   "execution_count": null,
   "metadata": {
    "deletable": false,
    "editable": false,
    "nbgrader": {
     "cell_type": "code",
     "checksum": "c338ea59a0a35837ea381f2b7f74caab",
     "grade": true,
     "grade_id": "cell-ec7481e5b9a9f30a",
     "locked": true,
     "points": 1,
     "schema_version": 3,
     "solution": false,
     "task": false
    }
   },
   "outputs": [],
   "source": [
    "t.test_1d(planes2)"
   ]
  },
  {
   "cell_type": "markdown",
   "metadata": {},
   "source": [
    "**Question 1(e)** <br> {points: 1}  \n",
    "\n",
    "We are interested in determining if the number of medals is influenced by the country and the type of medal. Given this statistical question, is the below dataset tidy data? \n",
    "\n",
    "\\begin{array}{ccccc}\n",
    "& & COUNTRY & GOLD & SILVER & BRONZE\\\\\n",
    "& 1 & USA & 46 & 37 & 38\\\\\n",
    "medals\\_df = & 2 & CHN & 38 & 23 & 17\\\\\n",
    "& 3 & GBR & 29 & 18 & 26\\\\\n",
    "\\end{array}\n"
   ]
  },
  {
   "cell_type": "markdown",
   "metadata": {},
   "source": [
    "To answer the question, assign the letter associated with the correct answer to a variable in the code cell below:   \n",
    " \n",
    "A) The dataframe is tidy.\n",
    "\n",
    "B) The dataframe is ***NOT*** tidy and cannot be changed to tidy data by using `.pivot()` or `.melt()`. \n",
    "\n",
    "C) The dataframe is ***NOT*** tidy and can be changed to tidy data by using `.pivot()`.\n",
    "\n",
    "D) The dataframe is ***NOT*** tidy and can be changed to tidy data by using `.melt()`.\n",
    "\n",
    "*Answer in the cell below using the uppercase letter associated with your answer. Place your answer between `\"\"`, assign the correct answer to an object called `answer1_e`.*"
   ]
  },
  {
   "cell_type": "code",
   "execution_count": null,
   "metadata": {
    "deletable": false,
    "nbgrader": {
     "cell_type": "code",
     "checksum": "10f9a59df78a309f92bce5d24a8a068c",
     "grade": false,
     "grade_id": "cell-492bb19dc3a7130f",
     "locked": false,
     "schema_version": 3,
     "solution": true,
     "task": false
    }
   },
   "outputs": [],
   "source": [
    "answer1_e = None\n",
    "\n",
    "# your code here\n",
    "raise NotImplementedError # No Answer - remove if you provide an answer"
   ]
  },
  {
   "cell_type": "code",
   "execution_count": null,
   "metadata": {
    "deletable": false,
    "editable": false,
    "nbgrader": {
     "cell_type": "code",
     "checksum": "9baaefccf8ba27bd6a21dd3db7c6fc52",
     "grade": true,
     "grade_id": "cell-01a6e527e9db7a0e",
     "locked": true,
     "points": 1,
     "schema_version": 3,
     "solution": false,
     "task": false
    }
   },
   "outputs": [],
   "source": [
    "t.test_1e(answer1_e)"
   ]
  },
  {
   "cell_type": "markdown",
   "metadata": {},
   "source": [
    "## 2.  Pivot and Melt"
   ]
  },
  {
   "cell_type": "markdown",
   "metadata": {},
   "source": [
    "**Question 2(a)** <br> {points: 1}  \n",
    "\n",
    "The file at this [url](https://raw.githubusercontent.com/plotly/datasets/master/school_earnings.csv) contains data about the average wage in 1000 dollars per year for men and women graduates from various US universities. \n",
    "\n",
    "***Note: many popular datasets have sex as a feature where the possible values are male and female. This representation reflects how the data were collected and is not meant to imply that, for example, gender is binary.***\n",
    "\n",
    "\n",
    "Load only the `School`, `Women` and `Men` columns into a dataframe named `wages`.\n",
    "\n"
   ]
  },
  {
   "cell_type": "code",
   "execution_count": null,
   "metadata": {
    "deletable": false,
    "nbgrader": {
     "cell_type": "code",
     "checksum": "8e62dda1d13cba3573bc4b049bac0b48",
     "grade": false,
     "grade_id": "cell-6e9f73a26ab62a99",
     "locked": false,
     "schema_version": 3,
     "solution": true,
     "task": false
    }
   },
   "outputs": [],
   "source": [
    "wages = None\n",
    "\n",
    "# your code here\n",
    "raise NotImplementedError # No Answer - remove if you provide an answer"
   ]
  },
  {
   "cell_type": "code",
   "execution_count": null,
   "metadata": {
    "deletable": false,
    "editable": false,
    "nbgrader": {
     "cell_type": "code",
     "checksum": "73f54264417dca30bec830ee2c52f3f1",
     "grade": true,
     "grade_id": "cell-e0cd5c037882035a",
     "locked": true,
     "points": 1,
     "schema_version": 3,
     "solution": false,
     "task": false
    }
   },
   "outputs": [],
   "source": [
    "t.test_2a(wages)"
   ]
  },
  {
   "cell_type": "markdown",
   "metadata": {},
   "source": [
    "**Question 2(b)** <br> {points: 1}  \n",
    "\n",
    "We are interested in seeing if a person's wage is influenced by the variables gender and school. Given this statistical question, which tidy data criterion is not being satisfied in the dataframe?"
   ]
  },
  {
   "cell_type": "markdown",
   "metadata": {},
   "source": [
    "To answer the question, assign the letter associated with the correct answer to a variable in the code cell below:   \n",
    " \n",
    "A) Criterion 1: Each row is a single observation      \n",
    "\n",
    "B) Criterion 2: Each variable is a single column     \n",
    "\n",
    "C) Criterion 3: Each value is a single cell      \n",
    "\n",
    "*Answer in the cell below using the uppercase letter associated with your answer. Place your answer between `\"\"`, assign the correct answer to an object called `answer2_b`.*"
   ]
  },
  {
   "cell_type": "code",
   "execution_count": null,
   "metadata": {
    "deletable": false,
    "nbgrader": {
     "cell_type": "code",
     "checksum": "21ba60cffa6848b7f80dab24ea1b3392",
     "grade": false,
     "grade_id": "cell-603c14df9149a8a2",
     "locked": false,
     "schema_version": 3,
     "solution": true,
     "task": false
    }
   },
   "outputs": [],
   "source": [
    "answer2_b = None\n",
    "\n",
    "# your code here\n",
    "raise NotImplementedError # No Answer - remove if you provide an answer\n"
   ]
  },
  {
   "cell_type": "code",
   "execution_count": null,
   "metadata": {
    "deletable": false,
    "editable": false,
    "nbgrader": {
     "cell_type": "code",
     "checksum": "679a38fd258ae387770e2f61abdb8328",
     "grade": true,
     "grade_id": "cell-239c2fb98499b9f4",
     "locked": true,
     "points": 1,
     "schema_version": 3,
     "solution": false,
     "task": false
    }
   },
   "outputs": [],
   "source": [
    "t.test_2b(answer2_b)"
   ]
  },
  {
   "cell_type": "markdown",
   "metadata": {},
   "source": [
    "**Question 2(c)** <br> {points: 1}  \n",
    "\n",
    "Make the dataset tidy by using `.melt()`.    \n",
    "Use `School` as `id_vars`, `Gender` as `var_name` and `Wage` as `value_name` and sort the dataframe by `School` and then `Gender`.      \n",
    "Name the new object `tidy_wages`. "
   ]
  },
  {
   "cell_type": "code",
   "execution_count": null,
   "metadata": {
    "deletable": false,
    "nbgrader": {
     "cell_type": "code",
     "checksum": "dc5e18e26ad0dedd823b9a075c704c7b",
     "grade": false,
     "grade_id": "cell-73c51126a6542e2d",
     "locked": false,
     "schema_version": 3,
     "solution": true,
     "task": false
    }
   },
   "outputs": [],
   "source": [
    "tidy_wages = None\n",
    "\n",
    "# your code here\n",
    "raise NotImplementedError # No Answer - remove if you provide an answer"
   ]
  },
  {
   "cell_type": "code",
   "execution_count": null,
   "metadata": {
    "deletable": false,
    "editable": false,
    "nbgrader": {
     "cell_type": "code",
     "checksum": "de73beb71d6192e6b870fc7ecdebde1d",
     "grade": true,
     "grade_id": "cell-1f14881b27d05b6a",
     "locked": true,
     "points": 1,
     "schema_version": 3,
     "solution": false,
     "task": false
    }
   },
   "outputs": [],
   "source": [
    "t.test_2c(tidy_wages)"
   ]
  },
  {
   "cell_type": "markdown",
   "metadata": {},
   "source": [
    "**Question 2(d)** <br> {points: 2}  \n",
    "\n",
    "`.groupby()` the `Gender` column and find the mean `Wage` of each group.    \n",
    "Save the new dataframe as `wage_means`. "
   ]
  },
  {
   "cell_type": "code",
   "execution_count": null,
   "metadata": {
    "deletable": false,
    "nbgrader": {
     "cell_type": "code",
     "checksum": "3efafdff58a1c4655eb9053a196a7fca",
     "grade": false,
     "grade_id": "cell-35d4b922fc450705",
     "locked": false,
     "schema_version": 3,
     "solution": true,
     "task": false
    }
   },
   "outputs": [],
   "source": [
    "wage_means = None\n",
    "\n",
    "# your code here\n",
    "raise NotImplementedError # No Answer - remove if you provide an answer"
   ]
  },
  {
   "cell_type": "code",
   "execution_count": null,
   "metadata": {
    "deletable": false,
    "editable": false,
    "nbgrader": {
     "cell_type": "code",
     "checksum": "b37f54ac4e20a768f742a1d28a8dc022",
     "grade": true,
     "grade_id": "cell-c4891e7ec95d0a58",
     "locked": true,
     "points": 2,
     "schema_version": 3,
     "solution": false,
     "task": false
    }
   },
   "outputs": [],
   "source": [
    "assert 'wage_means' in locals(), \"Your answer should be named 'wage_means'\"\n",
    "\n",
    "# Note that this test has been hidden intentionally.\n",
    "# It will provide no feedback as to the correctness of your answers.\n",
    "# Thus, it is up to you to decide if your answer is sufficiently correct."
   ]
  },
  {
   "cell_type": "markdown",
   "metadata": {},
   "source": [
    "**Question 2(e)** <br> {points: 1}  \n",
    "\n",
    "Which of the following is True? \n",
    "\n",
    "To answer the question, assign the letter associated with the correct answer to a variable in the code cell below:   \n",
    " \n",
    "A) Men and Women's mean wage are approximately equal. \n",
    "\n",
    "B) Women are making 0.9 the amount of Men  \n",
    "\n",
    "C) Men are making 1.2 the amount of Women \n",
    "\n",
    "D) Women are making 0.7 the amount of Men \n",
    "\n",
    "*Answer in the cell below using the uppercase letter associated with your answer. Place your answer between `\"\"`, assign the correct answer to an object called `answer2_e`.*"
   ]
  },
  {
   "cell_type": "code",
   "execution_count": null,
   "metadata": {
    "deletable": false,
    "nbgrader": {
     "cell_type": "code",
     "checksum": "626a02cfe571d369b5762424d30a9b50",
     "grade": false,
     "grade_id": "cell-1ca40c4420470421",
     "locked": false,
     "schema_version": 3,
     "solution": true,
     "task": false
    }
   },
   "outputs": [],
   "source": [
    "answer2_e = None\n",
    "\n",
    "# your code here\n",
    "raise NotImplementedError # No Answer - remove if you provide an answer"
   ]
  },
  {
   "cell_type": "code",
   "execution_count": null,
   "metadata": {
    "deletable": false,
    "editable": false,
    "nbgrader": {
     "cell_type": "code",
     "checksum": "e7781e4a2f259c5838fdcc693ae66df9",
     "grade": true,
     "grade_id": "cell-4db36636a741a9e1",
     "locked": true,
     "points": 1,
     "schema_version": 3,
     "solution": false,
     "task": false
    }
   },
   "outputs": [],
   "source": [
    "t.test_2e(answer2_e)"
   ]
  },
  {
   "cell_type": "markdown",
   "metadata": {},
   "source": [
    "**Question 2(f)** <br> {points: 1}  \n",
    "\n",
    "Reverse the operation you performed in **Question 2(c)** using `.pivot()`. Do not forget to reset your index.\n",
    "You will need to chain `.rename_axis('', axis='columns')` after you reset your axis to adjust for an incorrect axis label. \n",
    "Name the untidied object `untidied_wages`. "
   ]
  },
  {
   "cell_type": "code",
   "execution_count": null,
   "metadata": {
    "deletable": false,
    "nbgrader": {
     "cell_type": "code",
     "checksum": "0b20732055c817d315a3634fbfa65a4f",
     "grade": false,
     "grade_id": "cell-d245d98a9ad389fa",
     "locked": false,
     "schema_version": 3,
     "solution": true,
     "task": false
    }
   },
   "outputs": [],
   "source": [
    "# untidied_wages = (....pivot(...)\n",
    "#                      ....()\n",
    "#                      .rename_axis('', axis='columns')\n",
    "#                  )\n",
    " \n",
    "\n",
    "# your code here\n",
    "raise NotImplementedError # No Answer - remove if you provide an answer"
   ]
  },
  {
   "cell_type": "code",
   "execution_count": null,
   "metadata": {
    "deletable": false,
    "editable": false,
    "nbgrader": {
     "cell_type": "code",
     "checksum": "a96ba3e3f7112e036ca72d451eb3ccdd",
     "grade": true,
     "grade_id": "cell-e89f064e31704eae",
     "locked": true,
     "points": 1,
     "schema_version": 3,
     "solution": false,
     "task": false
    }
   },
   "outputs": [],
   "source": [
    "t.test_2f(untidied_wages)"
   ]
  },
  {
   "cell_type": "markdown",
   "metadata": {},
   "source": [
    "**Question 2(g)** <br> {points: 1}  \n",
    "\n",
    "Using `untidied_wages`  We are trying to answer the question, *Which school has the largest wage gap between among women and men?*\n",
    "\n",
    "You will need to add a new column in the dataframe named `Wage_Gap` (Men wage - Woman wage). Sort your new dataframe in descending order and name it `wage_gap_df`."
   ]
  },
  {
   "cell_type": "code",
   "execution_count": null,
   "metadata": {
    "deletable": false,
    "nbgrader": {
     "cell_type": "code",
     "checksum": "7c64fa198b0adf90769ae5cb52999755",
     "grade": false,
     "grade_id": "cell-2d8b2e33a5fda5a8",
     "locked": false,
     "schema_version": 3,
     "solution": true,
     "task": false
    }
   },
   "outputs": [],
   "source": [
    "wage_gap_df = None\n",
    "\n",
    "# your code here\n",
    "raise NotImplementedError # No Answer - remove if you provide an answer"
   ]
  },
  {
   "cell_type": "code",
   "execution_count": null,
   "metadata": {},
   "outputs": [],
   "source": [
    "wage_gap_df"
   ]
  },
  {
   "cell_type": "code",
   "execution_count": null,
   "metadata": {
    "deletable": false,
    "editable": false,
    "nbgrader": {
     "cell_type": "code",
     "checksum": "0fb3dbec312f3ef585692d0f7221b260",
     "grade": true,
     "grade_id": "cell-d4a03759945efbad",
     "locked": true,
     "points": 1,
     "schema_version": 3,
     "solution": false,
     "task": false
    }
   },
   "outputs": [],
   "source": [
    "t.test_2g(wage_gap_df)"
   ]
  },
  {
   "cell_type": "markdown",
   "metadata": {},
   "source": [
    "**Question 2(h)** <br> {points: 1}  \n",
    "\n",
    "Plot the dataframe `wage_gap_df` by specifying `School` on the `x-axis` and `Wage_Gap` on the `y-axis`.        \n",
    "Name this object `wage_gap_plot`. Also sort the `Wage_Gap` values in ascending order. Don't forget to provide an informative title for your plot."
   ]
  },
  {
   "cell_type": "code",
   "execution_count": null,
   "metadata": {
    "deletable": false,
    "nbgrader": {
     "cell_type": "code",
     "checksum": "c764b5872eff4d03ef8a9e937ed5fbdc",
     "grade": false,
     "grade_id": "cell-07402cfb0136e162",
     "locked": false,
     "schema_version": 3,
     "solution": true,
     "task": false
    }
   },
   "outputs": [],
   "source": [
    "wage_gap_plot = None\n",
    "\n",
    "# your code here\n",
    "raise NotImplementedError # No Answer - remove if you provide an answer\n",
    "\n",
    "wage_gap_plot"
   ]
  },
  {
   "cell_type": "code",
   "execution_count": null,
   "metadata": {
    "deletable": false,
    "editable": false,
    "nbgrader": {
     "cell_type": "code",
     "checksum": "0184a092022a135570e599fcf2e1f7f2",
     "grade": true,
     "grade_id": "cell-582c8f7c5ccfe601",
     "locked": true,
     "points": 1,
     "schema_version": 3,
     "solution": false,
     "task": false
    }
   },
   "outputs": [],
   "source": [
    "t.test_2h(wage_gap_plot)"
   ]
  },
  {
   "cell_type": "markdown",
   "metadata": {},
   "source": [
    "## 3.  Concat and Merge "
   ]
  },
  {
   "cell_type": "markdown",
   "metadata": {},
   "source": [
    "**Question 3(a)** <br> {points: 1}  \n",
    "\n",
    "Combine the following 2 dataframes using either `pd.concat()` or `.merge()`. Drop any duplicate columns if any arise.    \n",
    "Name the new dataframe `netflix_full`.\n"
   ]
  },
  {
   "cell_type": "code",
   "execution_count": null,
   "metadata": {},
   "outputs": [],
   "source": [
    "netflix1 = pd.read_csv('data/netflix1.csv')\n",
    "netflix1"
   ]
  },
  {
   "cell_type": "code",
   "execution_count": null,
   "metadata": {},
   "outputs": [],
   "source": [
    "netflix2 = pd.read_csv('data/netflix2.csv')\n",
    "netflix2"
   ]
  },
  {
   "cell_type": "code",
   "execution_count": null,
   "metadata": {
    "deletable": false,
    "nbgrader": {
     "cell_type": "code",
     "checksum": "e259e1b5c2420431f4efbe1ff6708ebc",
     "grade": false,
     "grade_id": "cell-50875fc3cd80983e",
     "locked": false,
     "schema_version": 3,
     "solution": true,
     "task": false
    }
   },
   "outputs": [],
   "source": [
    "netflix_full = None \n",
    "\n",
    "# your code here\n",
    "raise NotImplementedError # No Answer - remove if you provide an answer\n"
   ]
  },
  {
   "cell_type": "code",
   "execution_count": null,
   "metadata": {
    "deletable": false,
    "editable": false,
    "nbgrader": {
     "cell_type": "code",
     "checksum": "bdccfdd53990f4f2b407d0cb8c5435bf",
     "grade": true,
     "grade_id": "cell-74c7e427e77d492b",
     "locked": true,
     "points": 1,
     "schema_version": 3,
     "solution": false,
     "task": false
    }
   },
   "outputs": [],
   "source": [
    "t.test_3a(netflix_full)"
   ]
  },
  {
   "cell_type": "markdown",
   "metadata": {},
   "source": [
    "**Question 3(b)** <br> {points: 2}  \n",
    "\n",
    "Add the new dataframe `new_releases` to the existing dataframe `netflix_full` that you made in the previous question.   \n",
    "Name the new object `netflix_collection`.\n"
   ]
  },
  {
   "cell_type": "code",
   "execution_count": null,
   "metadata": {},
   "outputs": [],
   "source": [
    "new_releases = pd.read_csv('data/netflix3.csv')"
   ]
  },
  {
   "cell_type": "code",
   "execution_count": null,
   "metadata": {
    "deletable": false,
    "nbgrader": {
     "cell_type": "code",
     "checksum": "28f5d759a089bf3b150a5b72caba784f",
     "grade": false,
     "grade_id": "cell-0fe1ae1c5d8700ab",
     "locked": false,
     "schema_version": 3,
     "solution": true,
     "task": false
    }
   },
   "outputs": [],
   "source": [
    "netflix_collection = None \n",
    "\n",
    "# your code here\n",
    "raise NotImplementedError # No Answer - remove if you provide an answer\n",
    "netflix_collection"
   ]
  },
  {
   "cell_type": "code",
   "execution_count": null,
   "metadata": {
    "deletable": false,
    "editable": false,
    "nbgrader": {
     "cell_type": "code",
     "checksum": "7949442412e41f16e9d30a012ce6216d",
     "grade": true,
     "grade_id": "cell-015abf54b72e30df",
     "locked": true,
     "points": 2,
     "schema_version": 3,
     "solution": false,
     "task": false
    }
   },
   "outputs": [],
   "source": [
    "assert 'netflix_collection' in locals(), \"Your answer should be named 'netflix_collection'\"\n",
    "\n",
    "# Note that this test has been hidden intentionally.\n",
    "# It will provide no feedback as to the correctness of your answers.\n",
    "# Thus, it is up to you to decide if your answer is sufficiently correct."
   ]
  },
  {
   "cell_type": "markdown",
   "metadata": {},
   "source": [
    "**Question 3(c)** <br> {points: 1} \n",
    "\n",
    "Here are 2 dataframes:\n",
    "\n",
    "\n",
    "#### Left Dataframe\n",
    "\n",
    "\n",
    "|      | Name                        | Gender   | Status     | Birth Date   | Birth Place     |\n",
    "|---: |:----------------------------|:---------|:-----------|:-------------|:-----------------|\n",
    "|**0**| Gregory E. Chamitoff        | Male     | Active     | 8/6/1962     | Montreal, Canada |\n",
    "|**1**| Patricia Hilliard Robertson | Female   | Deceased   | 3/12/1963    | Indiana, PA      |\n",
    "|**2**| Kathleen Rubins             | Female   | Active     | 10/14/1978   | Farmington, CT   |\n",
    "|**3**| Michael T. Good             | Male     | Management | 10/13/1962   | Parma, OH        |\n",
    "|**4**| Neil A. Armstrong           | Male     | Deceased   | 8/5/1930     | Wapakoneta, OH   |\n",
    "\n",
    "\n",
    "#### Right  Dataframe\n",
    "\n",
    "\n",
    "|     | Name       | Undergraduate Major  | Graduate Major   |   Space Flights |  Space Walks |   Space Walks (hr) |\n",
    "|----:|:--------------------|:-------------------|:------------------|----------------:|--------:|-----------------:|\n",
    "|**0**| Buzz Aldrin                 | Mechanical Engineering   | Astronautics          |     2 |     2 |    8 |\n",
    "|**1**| Patricia Hilliard Robertson | Biology           | Medicine                     |     0 |     0 |    0 |\n",
    "|**2**| Neil A. Armstrong           | Aeronautical Engineering | Aerospace Engineering |     2 |     1 |    2 |\n",
    "|**3**| Mae C. Jemison              | Chemical Engineering     | Medicine              |     1 |     0 |    0 |\n",
    "|**4**| Michael T. Good             | Aerospace Engineering    | Aerospace Engineering |     2 |     4 |   30 |\n",
    "|**5**| Shannon W. Lucid            | Chemistry                | Biochemistry          |     5 |     0 |    0 |\n",
    "\n",
    "\n",
    "The above dataframe have been joined together to produce each of the dataframes below, each one using a different joining methods. Match up each of the merged dataframe labelled A-D with it's corresponding join type ('inner', 'outer', 'left', 'right'). \n",
    "\n",
    "\n",
    "###### Dataframe A\n",
    "|  | Name| Gender| Status| Birth Date| Birth Place| Undergraduate Major| Graduate Major|Space Flights |Space Walks |   Space Walks (hr) |\n",
    "|---:|:----------------------------|:---------|:-----------|:-------------|:---------------|:-------------------------|:----------------------|----------------:|--------------:|-------------------:|\n",
    "|**0**| Patricia Hilliard Robertson | Female| Deceased| 3/12/1963| Indiana, PA| Biology | Medicine  | 0 |0 |0 |\n",
    "|**1**| Michael T. Good| Male|Management|10/13/1962|Parma, OH|Aerospace Engineering|Aerospace Engineering|2 |4|30 |\n",
    "|**2**|Neil A. Armstrong|Male|Deceased| 8/5/1930|Wapakoneta, OH|Aeronautical Engineering|Aerospace Engineering|2|1|2|\n",
    "|**3**| Buzz Aldrin | NaN | NaN | NaN  | NaN | Mechanical Engineering   | Astronautics |  2 |  2 | 8 |\n",
    "|**4**| Mae C. Jemison  | NaN  | NaN | NaN  | NaN | Chemical Engineering | Medicine |  1 | 0 |  0 |\n",
    "|**5**| Shannon W. Lucid   | NaN   | NaN  | NaN | NaN  | Chemistry | Biochemistry   | 5 |    0 |  0 |\n",
    "\n",
    "\n",
    "###### Dataframe B\n",
    "\n",
    "|  | Name| Gender| Status| Birth Date| Birth Place| Undergraduate Major| Graduate Major|Space Flights |Space Walks |   Space Walks (hr) |\n",
    "|---:|:----------------------------|:---------|:-----------|:-------------|:---------------|:-------------------------|:----------------------|----------------:|--------------:|-------------------:|\n",
    "|**0**| Gregory E. Chamitoff| Male| Active| 8/6/1962| Montreal, Canada | NaN| NaN | NaN |  NaN | NaN |\n",
    "|**1**| Patricia Hilliard Robertson | Female| Deceased| 3/12/1963| Indiana, PA| Biology | Medicine  | 0 |0 |0 |\n",
    "|**2**| Kathleen Rubins| Female | Active| 10/14/1978| Farmington, CT| NaN | NaN | NaN | NaN | NaN |\n",
    "|**3**| Michael T. Good| Male|Management|10/13/1962|Parma, OH|Aerospace Engineering|Aerospace Engineering|2 |4|30 |\n",
    "|**4**|Neil A. Armstrong|Male|Deceased| 8/5/1930|Wapakoneta, OH|Aeronautical Engineering|Aerospace Engineering|2|1|2|\n",
    "|**5**| Buzz Aldrin | NaN | NaN | NaN  | NaN | Mechanical Engineering   | Astronautics |  2 |  2 | 8 |\n",
    "|**6**| Mae C. Jemison  | NaN  | NaN | NaN  | NaN | Chemical Engineering | Medicine |  1 | 0 |  0 |\n",
    "|**7**| Shannon W. Lucid   | NaN   | NaN  | NaN | NaN  | Chemistry | Biochemistry   | 5 |    0 |  0 |\n",
    "\n",
    "\n",
    "###### Dataframe C\n",
    "\n",
    "|  | Name| Gender| Status| Birth Date| Birth Place| Undergraduate Major| Graduate Major|Space Flights |Space Walks |   Space Walks (hr) |\n",
    "|---:|:----------------------------|:---------|:-----------|:-------------|:---------------|:-------------------------|:----------------------|----------------:|--------------:|-------------------:|\n",
    "|**0**| Patricia Hilliard Robertson | Female| Deceased| 3/12/1963| Indiana, PA| Biology| Medicine|0 |0 |0 |\n",
    "|**1**|Michael T. Good| Male|Management|10/13/1962|Parma, OH|Aerospace Engineering|Aerospace Engineering|2 |4|30 |\n",
    "|**2**|Neil A. Armstrong|Male|Deceased| 8/5/1930|Wapakoneta, OH|Aeronautical Engineering|Aerospace Engineering|2|1|2|\n",
    "\n",
    "###### Dataframe D\n",
    "\n",
    "\n",
    "\n",
    "|  | Name| Gender| Status| Birth Date| Birth Place| Undergraduate Major| Graduate Major|Space Flights |Space Walks |   Space Walks (hr) |\n",
    "|---:|:----------------------------|:---------|:-----------|:-------------|:---------------|:-------------------------|:----------------------|----------------:|--------------:|-------------------:|\n",
    "|**0**| Gregory E. Chamitoff| Male| Active| 8/6/1962| Montreal, Canada | NaN| NaN | NaN |  NaN | NaN |\n",
    "|**1**| Patricia Hilliard Robertson | Female| Deceased| 3/12/1963| Indiana, PA| Biology | Medicine  | 0 |0 |0 |\n",
    "|**2**| Kathleen Rubins| Female | Active| 10/14/1978| Farmington, CT| NaN | NaN | NaN | NaN | NaN |\n",
    "|**3**| Michael T. Good| Male|Management|10/13/1962|Parma, OH|Aerospace Engineering|Aerospace Engineering|2 |4|30 |\n",
    "|**4**|Neil A. Armstrong|Male|Deceased| 8/5/1930|Wapakoneta, OH|Aeronautical Engineering|Aerospace Engineering|2|1|2|\n",
    "\n"
   ]
  },
  {
   "cell_type": "code",
   "execution_count": null,
   "metadata": {
    "deletable": false,
    "nbgrader": {
     "cell_type": "code",
     "checksum": "996386288c8cecc72ab1f7ee752bb95e",
     "grade": false,
     "grade_id": "cell-ed8bee364b3945b2",
     "locked": false,
     "schema_version": 3,
     "solution": true,
     "task": false
    }
   },
   "outputs": [],
   "source": [
    "answer3c_dfa = None\n",
    "answer3c_dfb = None\n",
    "answer3c_dfc = None\n",
    "answer3c_dfd = None\n",
    "\n",
    "# your code here\n",
    "raise NotImplementedError # No Answer - remove if you provide an answer\n"
   ]
  },
  {
   "cell_type": "code",
   "execution_count": null,
   "metadata": {
    "deletable": false,
    "editable": false,
    "nbgrader": {
     "cell_type": "code",
     "checksum": "eb32933e7cd030728ebb850818e6000b",
     "grade": true,
     "grade_id": "cell-d4e2a89b6eb53de2",
     "locked": true,
     "points": 1,
     "schema_version": 3,
     "solution": false,
     "task": false
    }
   },
   "outputs": [],
   "source": [
    "t.test_3c(answer3c_dfa, answer3c_dfb, answer3c_dfc, answer3c_dfd)"
   ]
  },
  {
   "cell_type": "markdown",
   "metadata": {},
   "source": [
    "## 4. Green house emissions "
   ]
  },
  {
   "cell_type": "markdown",
   "metadata": {},
   "source": [
    "The file at this [url](https://raw.githubusercontent.com/plotly/datasets/master/Emissions%20Data.csv) contains data for the amount of greenhouse gas emissions in tonnes **per person** per year _(tons/person)_  for different countries around the world for the years 2008 - 2011. "
   ]
  },
  {
   "cell_type": "code",
   "execution_count": null,
   "metadata": {},
   "outputs": [],
   "source": [
    "emissions = pd.read_csv('https://raw.githubusercontent.com/plotly/datasets/master/Emissions%20Data.csv', dtype = {'Year':'object'})"
   ]
  },
  {
   "cell_type": "markdown",
   "metadata": {},
   "source": [
    "##### Our mission\n",
    "Our interest instead lies on finding the emission per year per person for each *continent* during the year 2010. It would not make sense to add up these current `Emission` variable as each country has a different population.  Instead,  we will need to find the raw quantity of gas emissions in tonnes per year for each country first, sum these per continent before dividing by the total continent population."
   ]
  },
  {
   "cell_type": "markdown",
   "metadata": {},
   "source": [
    " **Question 4(a)** <br> {points: 1} \n",
    " \n",
    " \n",
    "To calculate a country's total green house gas emission from the per person value in the `Emission` column, we will need to obtain each country's population.  The `gapminder.csv` dataset has just that. It is a dataset located in the `/data` folder that has been minorly edited from the [Gapminder website](https://www.gapminder.org/data/) which is a tool and resource that promotes [sustainable global development and achievement of the United Nations Millennium Development Goals](https://www.gapminder.org/about-gapminder/our-mission/). It contains the population of each country from the years 1992 - 2020. Load only the `Country` column and the columns between 2008-2011 (You will have to put the column years in single quotations ex:`'2008'`) and name the dataframe `gapminder`. \n",
    " "
   ]
  },
  {
   "cell_type": "code",
   "execution_count": null,
   "metadata": {
    "deletable": false,
    "nbgrader": {
     "cell_type": "code",
     "checksum": "498546c7588c1cd1155f6d170450b2ab",
     "grade": false,
     "grade_id": "cell-ed0d3d2ef1c6fe35",
     "locked": false,
     "schema_version": 3,
     "solution": true,
     "task": false
    }
   },
   "outputs": [],
   "source": [
    "gapminder = None\n",
    "\n",
    "# your code here\n",
    "raise NotImplementedError # No Answer - remove if you provide an answer\n"
   ]
  },
  {
   "cell_type": "code",
   "execution_count": null,
   "metadata": {
    "deletable": false,
    "editable": false,
    "nbgrader": {
     "cell_type": "code",
     "checksum": "6a7b55d8122a6c0a88e6b35444027480",
     "grade": true,
     "grade_id": "cell-77eea8f3cb8f5d48",
     "locked": true,
     "points": 1,
     "schema_version": 3,
     "solution": false,
     "task": false
    }
   },
   "outputs": [],
   "source": [
    "t.test_4a(gapminder)"
   ]
  },
  {
   "cell_type": "markdown",
   "metadata": {},
   "source": [
    " **Question 4(b)** <br> {points: 1} \n",
    " \n",
    "Use `.melt()` to transform `gapminder` into a long dataframe. Name the new columns `Year` and `Population`.    \n",
    "Name the new object `gapminder_long`."
   ]
  },
  {
   "cell_type": "code",
   "execution_count": null,
   "metadata": {
    "deletable": false,
    "nbgrader": {
     "cell_type": "code",
     "checksum": "450ae7c60a2835be9c414e970c06aff9",
     "grade": false,
     "grade_id": "cell-1858fb5fc72c26c1",
     "locked": false,
     "schema_version": 3,
     "solution": true,
     "task": false
    }
   },
   "outputs": [],
   "source": [
    "gapminder_long = None\n",
    "\n",
    "# your code here\n",
    "raise NotImplementedError # No Answer - remove if you provide an answer"
   ]
  },
  {
   "cell_type": "code",
   "execution_count": null,
   "metadata": {
    "deletable": false,
    "editable": false,
    "nbgrader": {
     "cell_type": "code",
     "checksum": "6acd60571ccd91a7dcd1cd3a3f13ca28",
     "grade": true,
     "grade_id": "cell-622251d0f0a0ee83",
     "locked": true,
     "points": 1,
     "schema_version": 3,
     "solution": false,
     "task": false
    }
   },
   "outputs": [],
   "source": [
    "t.test_4b(gapminder_long)"
   ]
  },
  {
   "cell_type": "markdown",
   "metadata": {},
   "source": [
    "**Question 4(c)** <br> {points: 1} \n",
    " \n",
    "Use `.merge()` to join the dataframes `emissions` and `gapminder_long`. Use identifying columns `Country` and `Year` and use the `outer` join type. Make sure to add the `_merge` column with the `indicator` argument.    \n",
    "Name the new object `emissions_pop`.\n"
   ]
  },
  {
   "cell_type": "code",
   "execution_count": null,
   "metadata": {
    "deletable": false,
    "nbgrader": {
     "cell_type": "code",
     "checksum": "e0f3eff6f1e528a1ccde277db08c4380",
     "grade": false,
     "grade_id": "cell-72b0faab1c274347",
     "locked": false,
     "schema_version": 3,
     "solution": true,
     "task": false
    }
   },
   "outputs": [],
   "source": [
    "emissions_pop = None\n",
    "\n",
    "# your code here\n",
    "raise NotImplementedError # No Answer - remove if you provide an answer"
   ]
  },
  {
   "cell_type": "code",
   "execution_count": null,
   "metadata": {
    "deletable": false,
    "editable": false,
    "nbgrader": {
     "cell_type": "code",
     "checksum": "6c24546d373e170b48264ef4b281e3d7",
     "grade": true,
     "grade_id": "cell-af447271111330a6",
     "locked": true,
     "points": 1,
     "schema_version": 3,
     "solution": false,
     "task": false
    }
   },
   "outputs": [],
   "source": [
    "t.test_4c(emissions_pop)"
   ]
  },
  {
   "cell_type": "markdown",
   "metadata": {},
   "source": [
    "**Question 4(d)** <br> {points: 1} \n",
    "\n",
    "Let's put our concentration on just the year 2010. Filter so we only have the year 2010 and drop the column named `Year`.     \n",
    "Name this dataframe `emissions_2010`. "
   ]
  },
  {
   "cell_type": "code",
   "execution_count": null,
   "metadata": {
    "deletable": false,
    "nbgrader": {
     "cell_type": "code",
     "checksum": "477043c07a754ed454a3f0702d7f48dc",
     "grade": false,
     "grade_id": "cell-02da998eb73e152c",
     "locked": false,
     "schema_version": 3,
     "solution": true,
     "task": false
    }
   },
   "outputs": [],
   "source": [
    "emissions_2010 = None\n",
    "\n",
    "# your code here\n",
    "raise NotImplementedError # No Answer - remove if you provide an answer"
   ]
  },
  {
   "cell_type": "code",
   "execution_count": null,
   "metadata": {
    "deletable": false,
    "editable": false,
    "nbgrader": {
     "cell_type": "code",
     "checksum": "1c5b8902d324f2684c2c1f2767cf5a76",
     "grade": true,
     "grade_id": "cell-69601f11edd342c0",
     "locked": true,
     "points": 1,
     "schema_version": 3,
     "solution": false,
     "task": false
    }
   },
   "outputs": [],
   "source": [
    "t.test_4d(emissions_2010)"
   ]
  },
  {
   "cell_type": "markdown",
   "metadata": {},
   "source": [
    "**Question 4(e)** <br> {points: 3} \n",
    "\n",
    "How many countries are missing from the left and right dataframes? Save the filtered shape (and using `[0]` to get the row dimension only) as objects named `missing_left`, `missing_right`. \n",
    "\n",
    "Create a new dataframe that only contains the rows that were present in both `emissions` and `gapminder_long` . \n",
    "Name this dataframe `emissions_both`. \n",
    "\n",
    "* Hint: Looking at the `_merge` column may be helpful."
   ]
  },
  {
   "cell_type": "code",
   "execution_count": null,
   "metadata": {
    "deletable": false,
    "nbgrader": {
     "cell_type": "code",
     "checksum": "57f8e7f87578187bc82557f83d9d1bbb",
     "grade": false,
     "grade_id": "cell-f766c516446ac6bd",
     "locked": false,
     "schema_version": 3,
     "solution": true,
     "task": false
    }
   },
   "outputs": [],
   "source": [
    "missing_left = None\n",
    "missing_right = None\n",
    "emissions_both = None\n",
    "\n",
    "# your code here\n",
    "raise NotImplementedError # No Answer - remove if you provide an answer"
   ]
  },
  {
   "cell_type": "code",
   "execution_count": null,
   "metadata": {
    "deletable": false,
    "editable": false,
    "nbgrader": {
     "cell_type": "code",
     "checksum": "5feb3239e032b808b3f005dba4d8e638",
     "grade": true,
     "grade_id": "cell-db9d5470fed86685",
     "locked": true,
     "points": 3,
     "schema_version": 3,
     "solution": false,
     "task": false
    }
   },
   "outputs": [],
   "source": [
    "t.test_4e(missing_left, missing_right, emissions_both)"
   ]
  },
  {
   "cell_type": "markdown",
   "metadata": {},
   "source": [
    "**Question 4(f)** <br> {points: 2} \n",
    "\n",
    "Make a new column for the total quantity of emissions for each country and name it `Quantity`. Currently we have the column `Emission` which is the greenhouse gas emissions in tonnes **per person** in the year 2010 and the number of people in the column `Population`. "
   ]
  },
  {
   "cell_type": "code",
   "execution_count": null,
   "metadata": {
    "deletable": false,
    "nbgrader": {
     "cell_type": "code",
     "checksum": "0bc1181f76832af100e69c835f84d072",
     "grade": false,
     "grade_id": "cell-7fb38fc8cf061e42",
     "locked": false,
     "schema_version": 3,
     "solution": true,
     "task": false
    }
   },
   "outputs": [],
   "source": [
    "emissions_total = None \n",
    "\n",
    "# your code here\n",
    "raise NotImplementedError # No Answer - remove if you provide an answer"
   ]
  },
  {
   "cell_type": "code",
   "execution_count": null,
   "metadata": {
    "deletable": false,
    "editable": false,
    "nbgrader": {
     "cell_type": "code",
     "checksum": "491d9f04734d30e6bbbbd2209b3a3df4",
     "grade": true,
     "grade_id": "cell-6d405a90c9b81efa",
     "locked": true,
     "points": 2,
     "schema_version": 3,
     "solution": false,
     "task": false
    }
   },
   "outputs": [],
   "source": [
    "assert 'emissions_total' in locals(), \"Your answer should be named 'emissions_total'\"\n",
    "\n",
    "# Note that this test has been hidden intentionally.\n",
    "# It will provide no feedback as to the correctness of your answers.\n",
    "# Thus, it is up to you to decide if your answer is sufficiently correct."
   ]
  },
  {
   "cell_type": "markdown",
   "metadata": {},
   "source": [
    "**Question 4(g)** <br> {points: 1} \n",
    "\n",
    "Group the `emissions_total` dataframe by continent and use `.agg()` to obtain the total sum of the `Population` and `Quantity` for each continent. Save this as `continent_emissions`. "
   ]
  },
  {
   "cell_type": "code",
   "execution_count": null,
   "metadata": {
    "deletable": false,
    "nbgrader": {
     "cell_type": "code",
     "checksum": "eccfe0d6cb046250832f3c75c25e60bd",
     "grade": false,
     "grade_id": "cell-86efb0698414ae91",
     "locked": false,
     "schema_version": 3,
     "solution": true,
     "task": false
    }
   },
   "outputs": [],
   "source": [
    "continent_emissions = None \n",
    "\n",
    "# your code here\n",
    "raise NotImplementedError # No Answer - remove if you provide an answer"
   ]
  },
  {
   "cell_type": "code",
   "execution_count": null,
   "metadata": {
    "deletable": false,
    "editable": false,
    "nbgrader": {
     "cell_type": "code",
     "checksum": "2051f5dc0adf681af05c8b58cb7296dd",
     "grade": true,
     "grade_id": "cell-cb25f5623b75069e",
     "locked": true,
     "points": 1,
     "schema_version": 3,
     "solution": false,
     "task": false
    }
   },
   "outputs": [],
   "source": [
    "t.test_4g(continent_emissions)"
   ]
  },
  {
   "cell_type": "markdown",
   "metadata": {},
   "source": [
    "**Question 4(h)** <br> {points: 1} \n",
    "\n",
    "Create a new column named `Emission_pp` from the `continent_emissions` dataframe which is the amount of emission **per person in each continent**. This can be made by dividing the `Quantity` column by the `Population` column.        \n",
    "Save the dataframe as object `continent_emissions_pp`. \n"
   ]
  },
  {
   "cell_type": "code",
   "execution_count": null,
   "metadata": {
    "deletable": false,
    "nbgrader": {
     "cell_type": "code",
     "checksum": "396deec1b76a01e7a2595cb124ebd60b",
     "grade": false,
     "grade_id": "cell-c4a55a0ab6afbaef",
     "locked": false,
     "schema_version": 3,
     "solution": true,
     "task": false
    }
   },
   "outputs": [],
   "source": [
    "continent_emissions_pp = None\n",
    "\n",
    "# your code here\n",
    "raise NotImplementedError # No Answer - remove if you provide an answer"
   ]
  },
  {
   "cell_type": "code",
   "execution_count": null,
   "metadata": {
    "deletable": false,
    "editable": false,
    "nbgrader": {
     "cell_type": "code",
     "checksum": "64236d77680bb0f7ec278b4f280adcb1",
     "grade": true,
     "grade_id": "cell-99ac21b147484cd9",
     "locked": true,
     "points": 1,
     "schema_version": 3,
     "solution": false,
     "task": false
    }
   },
   "outputs": [],
   "source": [
    "t.test_4h(continent_emissions_pp)"
   ]
  },
  {
   "cell_type": "markdown",
   "metadata": {},
   "source": [
    "**Question 4(i)** <br> {points: 1} \n",
    "\n",
    "Plot in a bar graph, the `Emission_pp` for each continent from highest to lowest and name the plot `continent_emissions_pp_plot`. Give it a title as well.\n",
    "\n",
    "Note that you will need to use the `reset_index` function."
   ]
  },
  {
   "cell_type": "code",
   "execution_count": null,
   "metadata": {
    "deletable": false,
    "nbgrader": {
     "cell_type": "code",
     "checksum": "c04e32adc62249935f179c88e9eb0a9c",
     "grade": false,
     "grade_id": "cell-3746a96f6e7c0c40",
     "locked": false,
     "schema_version": 3,
     "solution": true,
     "task": false
    }
   },
   "outputs": [],
   "source": [
    "# your code here\n",
    "raise NotImplementedError # No Answer - remove if you provide an answer"
   ]
  },
  {
   "cell_type": "code",
   "execution_count": null,
   "metadata": {
    "deletable": false,
    "editable": false,
    "nbgrader": {
     "cell_type": "code",
     "checksum": "77e8b99f630c14167e0841fd0a5cb34f",
     "grade": true,
     "grade_id": "cell-00c6e17519090236",
     "locked": true,
     "points": 1,
     "schema_version": 3,
     "solution": false,
     "task": false
    }
   },
   "outputs": [],
   "source": [
    "t.test_4i(continent_emissions_pp_plot)"
   ]
  },
  {
   "cell_type": "markdown",
   "metadata": {},
   "source": [
    "Before submitting your assignment please do the following:\n",
    "\n",
    "- Read through your solutions\n",
    "- **Restart your kernel and clear output and rerun your cells from top to bottom** \n",
    "- Makes sure that none of your code is broken \n",
    "- Verify that the tests from the questions you answered have obtained the output \"Success\"\n",
    "\n",
    "This is a simple way to make sure that you are submitting all the variables needed to mark the assignment. This method should help avoid losing marks due to changes in your environment.  "
   ]
  },
  {
   "cell_type": "markdown",
   "metadata": {},
   "source": [
    "## Attributions\n",
    "- Gapminder Dataset - [Gapminder](https://www.gapminder.org/data/)\n",
    "- Astronaut Dataset - [Kaggle](https://www.kaggle.com/nasa/astronaut-yearbook?select=astronauts.csv)\n",
    "- Netflix Dataset - [Kaggle](https://www.kaggle.com/shivamb/netflix-shows?select=netflix_titles.csv)\n",
    "- MDS DSCI 523 - Data Wrangling course - [MDS's GitHub website](hhttps://ubc-mds.github.io/) \n"
   ]
  },
  {
   "cell_type": "markdown",
   "metadata": {},
   "source": [
    "## Module Debriefing\n",
    "\n",
    "If this video is not showing up below, click on the cell and click the ▶ button in the toolbar above."
   ]
  },
  {
   "cell_type": "code",
   "execution_count": null,
   "metadata": {},
   "outputs": [],
   "source": [
    "from IPython.display import YouTubeVideo\n",
    "YouTubeVideo('/X0eqYP2t3kA', width=854, height=480)"
   ]
  },
  {
   "cell_type": "code",
   "execution_count": null,
   "metadata": {},
   "outputs": [],
   "source": []
  }
 ],
 "metadata": {
  "kernelspec": {
   "display_name": "Python 3",
   "language": "python",
   "name": "python3"
  },
  "language_info": {
   "codemirror_mode": {
    "name": "ipython",
    "version": 3
   },
   "file_extension": ".py",
   "mimetype": "text/x-python",
   "name": "python",
   "nbconvert_exporter": "python",
   "pygments_lexer": "ipython3",
   "version": "3.8.5"
  },
  "toc": {
   "base_numbering": 1,
   "nav_menu": {},
   "number_sections": true,
   "sideBar": true,
   "skip_h1_title": false,
   "title_cell": "Table of Contents",
   "title_sidebar": "Contents",
   "toc_cell": false,
   "toc_position": {},
   "toc_section_display": true,
   "toc_window_display": false
  }
 },
 "nbformat": 4,
 "nbformat_minor": 4
}
