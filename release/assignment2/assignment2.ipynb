{
 "cells": [
  {
   "cell_type": "markdown",
   "metadata": {},
   "source": [
    "# Programming in Python for Data Science \n",
    "\n",
    "# Assignment 2: Table Manipulation and Chaining"
   ]
  },
  {
   "cell_type": "markdown",
   "metadata": {},
   "source": [
    "You can't learn technical subjects without hands-on practice. The assignments are an important part of the course. To submit this assignment you will need to make sure that you save your Jupyter notebook. \n",
    "\n",
    "Below are the links of 2 videos that explain:\n",
    "\n",
    "1. [How to save your Jupyter notebook](https://youtu.be/0aoLgBoAUSA) and,       \n",
    "2. [How to answer a question in a Jupyter notebook assignment](https://youtu.be/7j0WKhI3W4s).  "
   ]
  },
  {
   "cell_type": "markdown",
   "metadata": {},
   "source": [
    "### Assignment Learning Goals:\n",
    "\n",
    "By the end of the module, students are expected to:\n",
    "- Demonstrate how to rename columns of a dataframe using [`.rename()`](https://pandas.pydata.org/pandas-docs/stable/reference/api/pandas.DataFrame.rename.html).\n",
    "- Create new or columns in a dataframe using [`.assign()`](https://pandas.pydata.org/pandas-docs/stable/reference/api/pandas.DataFrame.assign.html) notation.\n",
    "- Drop columns in a dataframe using [`.drop()`](https://pandas.pydata.org/pandas-docs/stable/reference/api/pandas.DataFrame.drop.html)\n",
    "- Use `df[]` notation to filter rows of a dataframe.\n",
    "- Calculate summary statistics on grouped objects using [`.groupby()`](https://pandas.pydata.org/pandas-docs/stable/reference/api/pandas.DataFrame.groupby.html) and [`.agg()`](https://pandas.pydata.org/pandas-docs/stable/reference/api/pandas.DataFrame.agg.html).\n",
    "- Explain when chaining is appropriate.\n",
    "- Demonstrate chaining over multiple lines and verbs.\n",
    "\n",
    "This assignment covers [Module 2](https://prog-learn.mds.ubc.ca/en/module2) of the online course. You should complete this module before attempting this assignment."
   ]
  },
  {
   "cell_type": "markdown",
   "metadata": {},
   "source": [
    "Any place you see `...`, you must fill in the function, variable, or data to complete the code. Substitute the `None` and the `raise NotImplementedError # No Answer - remove if you provide an answer` with your completed code and answers then proceed to run the cell!"
   ]
  },
  {
   "cell_type": "markdown",
   "metadata": {},
   "source": [
    "Note that some of the questions in this assignment will have hidden tests. This means that no feedback will be given as to the correctness of your solution. It will be left up to you to decide if your answer is sufficiently correct. These questions are worth 2 points."
   ]
  },
  {
   "cell_type": "code",
   "execution_count": null,
   "metadata": {},
   "outputs": [],
   "source": [
    "# Import libraries needed for this lab\n",
    "from hashlib import sha1\n",
    "import test_assignment2 as t\n",
    "import pandas as pd\n",
    "import altair as alt\n"
   ]
  },
  {
   "cell_type": "markdown",
   "metadata": {},
   "source": [
    "## 1. Loading files with Pandas \n",
    "\n",
    "In the previous module we loaded data from `csv` files using `pd.read_csv()` with limited arguments. However, most commonly you will need to create additional arguments or `pd.read_excel()` to load in a dataset to a dataframe that you can work with. `pd.read_excel()` and `pd.read_csv()` have many parameters that help read data files of different structures and formats. "
   ]
  },
  {
   "cell_type": "markdown",
   "metadata": {},
   "source": [
    " In the `data` folder there are 8 different `.csv` and `.xlsx` files named `wine_letter.csv/.txt/.xlsx` (example- if the question is 1(f), the corresponding data is named `wine_f.csv`). Look at each of these files and use `pd.read_csv()` or `pd.read_excel()` to load these data so that they resemble the following:\n",
    "\n",
    "|   | Grape | Origin | Alcohol | pH | Color | Aroma |\n",
    "| :---: | :---: | :---: | :---: | :---: | :---: | :---: |\n",
    "| **0** |  Chardonnay | Australia | 14.23 | 3.51 | White | Floral |\n",
    "| **1** |  Pinot Grigio | Italy | 13.20 | 3.30 | White | Fruity |\n",
    "| **2** |  Pinot Blanc | France | 13.16 | 3.16 | White | Citrus |\n",
    "| **3** |  Shiraz | Chile | 14.91 | 3.39 | Red | Berry |\n",
    "| **4** |  Malbec | Argentina | 13.83 | 3.28 | Red | Fruity |\n"
   ]
  },
  {
   "cell_type": "markdown",
   "metadata": {},
   "source": [
    "**Question 1(a)**  <br> {points: 1}   \n",
    "\n",
    "Load in the file named `wine_a.csv` using the appropriate verb `pd.read_csv()` or `pd.read_excel()` and arguments and save it as an object named `df_1a`."
   ]
  },
  {
   "cell_type": "code",
   "execution_count": null,
   "metadata": {
    "deletable": false,
    "nbgrader": {
     "cell_type": "code",
     "checksum": "fe43264286427b79ec368e5fbad209a9",
     "grade": false,
     "grade_id": "cell-e60ff99336d4d01a",
     "locked": false,
     "schema_version": 3,
     "solution": true,
     "task": false
    }
   },
   "outputs": [],
   "source": [
    "df_1a = None\n",
    "\n",
    "# your code here\n",
    "raise NotImplementedError # No Answer - remove if you provide an answer\n",
    "\n"
   ]
  },
  {
   "cell_type": "code",
   "execution_count": null,
   "metadata": {
    "deletable": false,
    "editable": false,
    "nbgrader": {
     "cell_type": "code",
     "checksum": "0d786116d9a09a9f6f12f26db74efed0",
     "grade": true,
     "grade_id": "cell-4931d4895213ff2d",
     "locked": true,
     "points": 1,
     "schema_version": 3,
     "solution": false,
     "task": false
    }
   },
   "outputs": [],
   "source": [
    "t.test_1a(df_1a)"
   ]
  },
  {
   "cell_type": "markdown",
   "metadata": {},
   "source": [
    "**Question 1(b)**  <br> {points: 1}   \n",
    "\n",
    "Load in the file named `wine_b.csv` using the appropriate verb `pd.read_csv()` or `pd.read_excel()` and arguments and save it as an object named `df_1b`."
   ]
  },
  {
   "cell_type": "code",
   "execution_count": null,
   "metadata": {
    "deletable": false,
    "nbgrader": {
     "cell_type": "code",
     "checksum": "df2cc50a03ae8094d5a5f6dd43aaffcd",
     "grade": false,
     "grade_id": "cell-97c01391ad25a043",
     "locked": false,
     "schema_version": 3,
     "solution": true,
     "task": false
    }
   },
   "outputs": [],
   "source": [
    "df_1b = None\n",
    "\n",
    "# your code here\n",
    "raise NotImplementedError # No Answer - remove if you provide an answer\n"
   ]
  },
  {
   "cell_type": "code",
   "execution_count": null,
   "metadata": {
    "deletable": false,
    "editable": false,
    "nbgrader": {
     "cell_type": "code",
     "checksum": "1f82b7a92be84fa7cf2ad00bd7ef0a48",
     "grade": true,
     "grade_id": "cell-09e0d6bb4c9185dd",
     "locked": true,
     "points": 1,
     "schema_version": 3,
     "solution": false,
     "task": false
    }
   },
   "outputs": [],
   "source": [
    "t.test_1b(df_1b)"
   ]
  },
  {
   "cell_type": "markdown",
   "metadata": {},
   "source": [
    "**Question 1(c)**  <br> {points: 1}   \n",
    "\n",
    "Load in the file named `wine_c.csv` using the appropriate verb `pd.read_csv()` or `pd.read_excel()` and arguments and save it as an object named `df_1c`."
   ]
  },
  {
   "cell_type": "code",
   "execution_count": null,
   "metadata": {
    "deletable": false,
    "nbgrader": {
     "cell_type": "code",
     "checksum": "00113126b5a6c59d43e506571601a4c7",
     "grade": false,
     "grade_id": "cell-5bcbd26df73e99b7",
     "locked": false,
     "schema_version": 3,
     "solution": true,
     "task": false
    }
   },
   "outputs": [],
   "source": [
    "df_1c = None\n",
    "\n",
    "# your code here\n",
    "raise NotImplementedError # No Answer - remove if you provide an answer\n",
    "\n"
   ]
  },
  {
   "cell_type": "code",
   "execution_count": null,
   "metadata": {
    "deletable": false,
    "editable": false,
    "nbgrader": {
     "cell_type": "code",
     "checksum": "47be9daffe03e0add1fd4b5ad23ab8fb",
     "grade": true,
     "grade_id": "cell-76b78585dc5069f4",
     "locked": true,
     "points": 1,
     "schema_version": 3,
     "solution": false,
     "task": false
    }
   },
   "outputs": [],
   "source": [
    "t.test_1c(df_1c)"
   ]
  },
  {
   "cell_type": "markdown",
   "metadata": {},
   "source": [
    "**Question 1(d)**  <br> {points: 1}   \n",
    "\n",
    "Load in the file named `wine_d.txt` using the appropriate verb `pd.read_csv()` or `pd.read_excel()` and arguments and save it as an object named `df_1d`."
   ]
  },
  {
   "cell_type": "code",
   "execution_count": null,
   "metadata": {
    "deletable": false,
    "nbgrader": {
     "cell_type": "code",
     "checksum": "11fe3d7e10441b2c4fd3bce6accc4193",
     "grade": false,
     "grade_id": "cell-84c10d85922e4413",
     "locked": false,
     "schema_version": 3,
     "solution": true,
     "task": false
    }
   },
   "outputs": [],
   "source": [
    "df_1d = None\n",
    "\n",
    "# your code here\n",
    "raise NotImplementedError # No Answer - remove if you provide an answer\n",
    "\n"
   ]
  },
  {
   "cell_type": "code",
   "execution_count": null,
   "metadata": {
    "deletable": false,
    "editable": false,
    "nbgrader": {
     "cell_type": "code",
     "checksum": "bd709989db9f8b7a0e46b53bd971fcb8",
     "grade": true,
     "grade_id": "cell-463aaa00c2184211",
     "locked": true,
     "points": 1,
     "schema_version": 3,
     "solution": false,
     "task": false
    }
   },
   "outputs": [],
   "source": [
    "t.test_1d(df_1d)"
   ]
  },
  {
   "cell_type": "markdown",
   "metadata": {},
   "source": [
    "**Question 1(e)**  <br> {points: 2}   \n",
    "\n",
    "Load in the file named `wine_e.csv` using the appropriate verb `pd.read_csv()` or `pd.read_excel()` and arguments and save it as an object named `df_1e`."
   ]
  },
  {
   "cell_type": "code",
   "execution_count": null,
   "metadata": {
    "deletable": false,
    "nbgrader": {
     "cell_type": "code",
     "checksum": "e15984bfa9069091acf8429095f8e6c9",
     "grade": false,
     "grade_id": "cell-246416508bc9f501",
     "locked": false,
     "schema_version": 3,
     "solution": true,
     "task": false
    }
   },
   "outputs": [],
   "source": [
    "df_1e = None\n",
    "\n",
    "# your code here\n",
    "raise NotImplementedError # No Answer - remove if you provide an answer\n"
   ]
  },
  {
   "cell_type": "code",
   "execution_count": null,
   "metadata": {
    "deletable": false,
    "editable": false,
    "nbgrader": {
     "cell_type": "code",
     "checksum": "dda9a235904caa53a5bbc856c9b77171",
     "grade": true,
     "grade_id": "cell-1d4d04b4dfe42be6",
     "locked": true,
     "points": 2,
     "schema_version": 3,
     "solution": false,
     "task": false
    }
   },
   "outputs": [],
   "source": [
    "assert 'df_1e' in locals(), \"Your answer should be named 'df_1e'\"\n",
    "\n",
    "# Note that this test has been hidden intentionally.\n",
    "# It will provide no feedback as to the correctness of your answers.\n",
    "# Thus, it is up to you to decide if your answer is sufficiently correct."
   ]
  },
  {
   "cell_type": "markdown",
   "metadata": {},
   "source": [
    "**Question 1(f)**  <br> {points: 1}   \n",
    "\n",
    "Load in the file named `wine_f.txt` using the appropriate verb `pd.read_csv()` or `pd.read_excel()` and arguments and save it as an object named `df_1f`."
   ]
  },
  {
   "cell_type": "code",
   "execution_count": null,
   "metadata": {
    "deletable": false,
    "nbgrader": {
     "cell_type": "code",
     "checksum": "55ce3b8d2dcd8a5bfdac53ecb3bd9a74",
     "grade": false,
     "grade_id": "cell-9a0f33c3a9ff9592",
     "locked": false,
     "schema_version": 3,
     "solution": true,
     "task": false
    }
   },
   "outputs": [],
   "source": [
    "df_1f = None\n",
    "\n",
    "# your code here\n",
    "raise NotImplementedError # No Answer - remove if you provide an answer\n"
   ]
  },
  {
   "cell_type": "code",
   "execution_count": null,
   "metadata": {
    "deletable": false,
    "editable": false,
    "nbgrader": {
     "cell_type": "code",
     "checksum": "c689500b36a0b5eca90af59e67a03ebe",
     "grade": true,
     "grade_id": "cell-321bd65f6db7764e",
     "locked": true,
     "points": 1,
     "schema_version": 3,
     "solution": false,
     "task": false
    }
   },
   "outputs": [],
   "source": [
    "t.test_1f(df_1f)"
   ]
  },
  {
   "cell_type": "markdown",
   "metadata": {},
   "source": [
    "**Question 1(g)**  <br> {points: 1}   \n",
    "\n",
    "Load in the file named `wine_g.xlsx` using the appropriate verb `pd.read_csv()` or `pd.read_excel()` and arguments and save it as an object named `df_1g`.\n",
    "\n",
    "You will need to look at the file which you can do by right clicking the file in the toolbar on the left of the screen and clicking on ***Download***."
   ]
  },
  {
   "cell_type": "code",
   "execution_count": null,
   "metadata": {
    "deletable": false,
    "nbgrader": {
     "cell_type": "code",
     "checksum": "b2dcf7b86c014d58e166c0bef4160344",
     "grade": false,
     "grade_id": "cell-36bc923bb358d123",
     "locked": false,
     "schema_version": 3,
     "solution": true,
     "task": false
    }
   },
   "outputs": [],
   "source": [
    "df_1g = None\n",
    "\n",
    "# your code here\n",
    "raise NotImplementedError # No Answer - remove if you provide an answer\n"
   ]
  },
  {
   "cell_type": "code",
   "execution_count": null,
   "metadata": {
    "deletable": false,
    "editable": false,
    "nbgrader": {
     "cell_type": "code",
     "checksum": "25099b7f4806dbf35fe9c56fbfce7a7c",
     "grade": true,
     "grade_id": "cell-bdebf9baa0b94dde",
     "locked": true,
     "points": 1,
     "schema_version": 3,
     "solution": false,
     "task": false
    }
   },
   "outputs": [],
   "source": [
    "t.test_1g(df_1g)"
   ]
  },
  {
   "cell_type": "markdown",
   "metadata": {},
   "source": [
    "**Question 1(h)**  <br> {points: 1}   \n",
    "\n",
    "Load in the file named `wine_h.csv` using the appropriate verb `pd.read_csv()` or `pd.read_excel()` and arguments and save it as an object named `df_1h`.\n",
    "\n",
    "\n",
    "You will need to look at the file which you can do by right clicking the file in the toolbar on the left of the screen and clicking on ***Download***."
   ]
  },
  {
   "cell_type": "code",
   "execution_count": null,
   "metadata": {
    "deletable": false,
    "nbgrader": {
     "cell_type": "code",
     "checksum": "0f10fbd8407024e0ea65a27cbdb9b099",
     "grade": false,
     "grade_id": "cell-962b21f176ed873e",
     "locked": false,
     "schema_version": 3,
     "solution": true,
     "task": false
    }
   },
   "outputs": [],
   "source": [
    "df_1h = None\n",
    "\n",
    "# your code here\n",
    "raise NotImplementedError # No Answer - remove if you provide an answer\n",
    "\n"
   ]
  },
  {
   "cell_type": "code",
   "execution_count": null,
   "metadata": {
    "deletable": false,
    "editable": false,
    "nbgrader": {
     "cell_type": "code",
     "checksum": "e98bd2097e34194611e6a96483f04e2a",
     "grade": true,
     "grade_id": "cell-b7b92ccaceee0a48",
     "locked": true,
     "points": 1,
     "schema_version": 3,
     "solution": false,
     "task": false
    }
   },
   "outputs": [],
   "source": [
    "t.test_1h(df_1h)"
   ]
  },
  {
   "cell_type": "markdown",
   "metadata": {},
   "source": [
    "\n",
    "**Question 1(i)**  <br> {points: 1}   \n",
    "\n",
    "Pandas can also load files directly using a url. Let's explore this functionality using a simple dataset showing the number of people that immigrate to Canada from the US and Britain located [here](https://raw.githubusercontent.com/plotly/datasets/master/Move%20to%20Canada.csv).\n",
    "\n",
    "Read the 'Move to Canada' .csv file using `pd.read_csv()` and store the dataframe as the variable `df`."
   ]
  },
  {
   "cell_type": "code",
   "execution_count": null,
   "metadata": {
    "deletable": false,
    "nbgrader": {
     "cell_type": "code",
     "checksum": "7166dcd1f1eeb859e580112ec0d581cb",
     "grade": false,
     "grade_id": "cell-293da28cdee572c7",
     "locked": false,
     "schema_version": 3,
     "solution": true,
     "task": false
    }
   },
   "outputs": [],
   "source": [
    "df = None\n",
    "\n",
    "# your code here\n",
    "raise NotImplementedError # No Answer - remove if you provide an answer"
   ]
  },
  {
   "cell_type": "code",
   "execution_count": null,
   "metadata": {
    "deletable": false,
    "editable": false,
    "nbgrader": {
     "cell_type": "code",
     "checksum": "8c3cd9a0fb5f155346d623d7923464f9",
     "grade": true,
     "grade_id": "cell-645f7dcf97036ef7",
     "locked": true,
     "points": 1,
     "schema_version": 3,
     "solution": false,
     "task": false
    }
   },
   "outputs": [],
   "source": [
    "t.test_1i(df)"
   ]
  },
  {
   "cell_type": "markdown",
   "metadata": {},
   "source": [
    "## 2. Vancouver Street Tree dataset <a name='2.6'></a>\n",
    "\n",
    "The City of Vancouver, nicknamed [Raincouver](https://blogs.ubc.ca/camdrohan/2012/08/14/the-truth-about-raincouver/) or [Raincity](https://en.wikipedia.org/wiki/Nicknames_of_Vancouver) surprises many non-residents by the sheer quantity of rain it receives. To locals, this is simply the expectations of living in a rainforest. The rainfall mixed with the temperate climate provides the perfect environment to maintain numerous species of trees across the city. Every year, Vancouver hosts a [cherry blossom festival](https://www.vcbf.ca/)  where people can take walks to view the blossoming cherry trees across the city,  post cherry blossom photos and attend a Cherry Jam Concert. People more interested in grandeur can explore the [giants in Stanley Park](https://www.insidevancouver.ca/2019/06/27/where-to-see-big-trees-in-vancouver/). \n",
    "In any case, The city has provided open data to all of Vancouver's street trees. The data includes the following:\n",
    "\n",
    "\n",
    "\n",
    "-  TREE_ID\n",
    "- CIVIC_NUMBER - Street number\n",
    "- STD_STREET - Street name\n",
    "- GENUS_NAME \n",
    "- SPECIES_NAME \n",
    "- CULTIVAR_NAME \n",
    "- COMMON_NAME \n",
    "- ASSIGNED - Indicates whether the address is made up to associate the tree with a nearby  lot (Y=Yes or N=No)\n",
    "- ROOT_BARRIER - Root barrier installed (Y = Yes, N = No)\n",
    "- PLANT_AREA - B = behind sidewalk, G = in tree grate, N = no sidewalk, C = cutout, a number  indicates boulevard width in feet\n",
    "- ON_STREET_BLOCK\n",
    "- ON_STREET\n",
    "- NEIGHBOURHOOD_NAME \n",
    "- STREET_SIDE_NAME - The street side which the tree is physically located on (Even, Odd or Median  (Med))\n",
    "- HEIGHT_RANGE_ID - 0-10 for every 10 feet (e.g., 0 = 0-10 ft, 1 = 10-20 ft, 2 = 20-30 ft, and10 = 100+ ft)\n",
    "- DIAMETER - in inches\n",
    "- CURB - Curb presence (Y = Yes, N = No)\n",
    "- DATE_PLANTED \n",
    "- Geom   \n"
   ]
  },
  {
   "cell_type": "markdown",
   "metadata": {},
   "source": [
    "**Question 2(a)**  <br> {points: 1}  \n",
    "\n",
    "Load the `street-trees.csv` dataset into a pandas dataframe named `trees`.     \n",
    "_Hint: How is your file delimited?_"
   ]
  },
  {
   "cell_type": "code",
   "execution_count": null,
   "metadata": {
    "deletable": false,
    "nbgrader": {
     "cell_type": "code",
     "checksum": "40f26e13b3415f8d61eb049961658f2a",
     "grade": false,
     "grade_id": "cell-7a1b3cebb9d471e8",
     "locked": false,
     "schema_version": 3,
     "solution": true,
     "task": false
    }
   },
   "outputs": [],
   "source": [
    "trees = None\n",
    "\n",
    "# your code here\n",
    "raise NotImplementedError # No Answer - remove if you provide an answer"
   ]
  },
  {
   "cell_type": "code",
   "execution_count": null,
   "metadata": {
    "deletable": false,
    "editable": false,
    "nbgrader": {
     "cell_type": "code",
     "checksum": "2d479615824f12a4385c5055eb29e5fa",
     "grade": true,
     "grade_id": "cell-9483fdf964a8582a",
     "locked": true,
     "points": 1,
     "schema_version": 3,
     "solution": false,
     "task": false
    }
   },
   "outputs": [],
   "source": [
    "t.test_2a(trees)"
   ]
  },
  {
   "cell_type": "markdown",
   "metadata": {},
   "source": [
    "**Question 2(b)**  <br> {points: 1}  \n",
    "\n",
    "Create a new column named `DIAMETER_CM` that contains the each tree's diameter in cm. \n",
    "Don't forget to save the dataframe as the object `trees` to maintain the changes.    \n",
    "_Note that 1 inch = 2.54cm._\n"
   ]
  },
  {
   "cell_type": "code",
   "execution_count": null,
   "metadata": {
    "deletable": false,
    "nbgrader": {
     "cell_type": "code",
     "checksum": "e77fa15e1f3faa37ebe29740d0cc4822",
     "grade": false,
     "grade_id": "cell-d76b48ee4be626ca",
     "locked": false,
     "schema_version": 3,
     "solution": true,
     "task": false
    }
   },
   "outputs": [],
   "source": [
    "CM_PER_INCH = 2.54\n",
    "# trees = trees.assign(...)\n",
    "\n",
    "# your code here\n",
    "raise NotImplementedError # No Answer - remove if you provide an answer"
   ]
  },
  {
   "cell_type": "code",
   "execution_count": null,
   "metadata": {
    "deletable": false,
    "editable": false,
    "nbgrader": {
     "cell_type": "code",
     "checksum": "cf1abc9ecfab78f5d245e1ba1890ccfa",
     "grade": true,
     "grade_id": "cell-0436a6dbfeca97e4",
     "locked": true,
     "points": 1,
     "schema_version": 3,
     "solution": false,
     "task": false
    }
   },
   "outputs": [],
   "source": [
    "t.test_2b(trees)"
   ]
  },
  {
   "cell_type": "markdown",
   "metadata": {},
   "source": [
    "**Question 2(c)**  <br> {points: 1}  \n",
    "Filter so we can concentrate our attention on the cherry trees - specifically species `SERRULATA`.   \n",
    "Save the resulting dataframe in an object called cherry.\n"
   ]
  },
  {
   "cell_type": "code",
   "execution_count": null,
   "metadata": {
    "deletable": false,
    "nbgrader": {
     "cell_type": "code",
     "checksum": "d7fc9d7fd70e6047a0c3e8a43bbf114c",
     "grade": false,
     "grade_id": "cell-a607c416f05888c4",
     "locked": false,
     "schema_version": 3,
     "solution": true,
     "task": false
    }
   },
   "outputs": [],
   "source": [
    "# cherry = trees[...[...] == ...]\n",
    "\n",
    "# your code here\n",
    "raise NotImplementedError # No Answer - remove if you provide an answer"
   ]
  },
  {
   "cell_type": "code",
   "execution_count": null,
   "metadata": {
    "deletable": false,
    "editable": false,
    "nbgrader": {
     "cell_type": "code",
     "checksum": "617651c2601e4393919a74d1d5ad71c8",
     "grade": true,
     "grade_id": "cell-432b2048ee01b7a3",
     "locked": true,
     "points": 1,
     "schema_version": 3,
     "solution": false,
     "task": false
    }
   },
   "outputs": [],
   "source": [
    "t.test_2c(cherry)"
   ]
  },
  {
   "cell_type": "markdown",
   "metadata": {},
   "source": [
    "**Question 2(d)**  <br> {points: 1}  \n",
    "\n",
    "Group the cherry trees by their common name. Save the results in an object called `cherry_group`."
   ]
  },
  {
   "cell_type": "code",
   "execution_count": null,
   "metadata": {
    "deletable": false,
    "nbgrader": {
     "cell_type": "code",
     "checksum": "b9d854fff99a5561d5516ad3d2df28af",
     "grade": false,
     "grade_id": "cell-6cece0b23a120a40",
     "locked": false,
     "schema_version": 3,
     "solution": true,
     "task": false
    }
   },
   "outputs": [],
   "source": [
    "cherry_group = None \n",
    "\n",
    "# your code here\n",
    "raise NotImplementedError # No Answer - remove if you provide an answer"
   ]
  },
  {
   "cell_type": "code",
   "execution_count": null,
   "metadata": {
    "deletable": false,
    "editable": false,
    "nbgrader": {
     "cell_type": "code",
     "checksum": "b4d1777d5a67bac0100d0e4ed362b2e4",
     "grade": true,
     "grade_id": "cell-113ba90db47fd897",
     "locked": true,
     "points": 1,
     "schema_version": 3,
     "solution": false,
     "task": false
    }
   },
   "outputs": [],
   "source": [
    "t.test_2d(cherry_group)"
   ]
  },
  {
   "cell_type": "markdown",
   "metadata": {},
   "source": [
    "**Question 2(e)**  <br> {points: 1}  \n",
    "\n",
    "For each type of cherry tree (`COMMON_NAME`) find the average diameter in cm and the number of the cherry trees for that cherry tree type.   \n",
    "Name the new dataframe as `cherry_stats`.    \n",
    "*Hint: Your dataframe should have the shape (16, 2).*     "
   ]
  },
  {
   "cell_type": "code",
   "execution_count": null,
   "metadata": {
    "deletable": false,
    "nbgrader": {
     "cell_type": "code",
     "checksum": "9c3bb3ca9e7ededd43f3924058d007ae",
     "grade": false,
     "grade_id": "cell-23e8676185b31137",
     "locked": false,
     "schema_version": 3,
     "solution": true,
     "task": false
    }
   },
   "outputs": [],
   "source": [
    "# cherry_stats = (...\n",
    "#                 .agg(...),\n",
    "#                 .loc[...])\n",
    "\n",
    "# your code here\n",
    "raise NotImplementedError # No Answer - remove if you provide an answer\n",
    "cherry_stats"
   ]
  },
  {
   "cell_type": "code",
   "execution_count": null,
   "metadata": {
    "deletable": false,
    "editable": false,
    "nbgrader": {
     "cell_type": "code",
     "checksum": "3aca67416838251b5f1360dacd8e4036",
     "grade": true,
     "grade_id": "cell-e05a3d9da4ed3d5c",
     "locked": true,
     "points": 1,
     "schema_version": 3,
     "solution": false,
     "task": false
    }
   },
   "outputs": [],
   "source": [
    "t.test_2e(cherry_stats)"
   ]
  },
  {
   "cell_type": "markdown",
   "metadata": {},
   "source": [
    "**Question 2(f)**  <br> {points: 1}  \n",
    "\n",
    "Graph the mean diameter of `cherry_stats`.  Sort the values in ascending order before you use graph your results. Make sure you add a discriptive title and label the y-axis.        \n",
    "Save the plot in an object called `cherry_graph`.   "
   ]
  },
  {
   "cell_type": "code",
   "execution_count": null,
   "metadata": {
    "deletable": false,
    "nbgrader": {
     "cell_type": "code",
     "checksum": "524fe9cfa54b29c25ad4bf5d4c9d392b",
     "grade": false,
     "grade_id": "cell-d27bbe1f8b0c7834",
     "locked": false,
     "schema_version": 3,
     "solution": true,
     "task": false
    }
   },
   "outputs": [],
   "source": [
    "# your code here\n",
    "raise NotImplementedError # No Answer - remove if you provide an answer\n",
    "cherry_graph"
   ]
  },
  {
   "cell_type": "code",
   "execution_count": null,
   "metadata": {
    "deletable": false,
    "editable": false,
    "nbgrader": {
     "cell_type": "code",
     "checksum": "67f8a6c9f17db1d153d150c0441a69b0",
     "grade": true,
     "grade_id": "cell-f58346aa6368a2f3",
     "locked": true,
     "points": 1,
     "schema_version": 3,
     "solution": false,
     "task": false
    }
   },
   "outputs": [],
   "source": [
    "t.test_2f(cherry_graph)"
   ]
  },
  {
   "cell_type": "markdown",
   "metadata": {},
   "source": [
    "## 3. The Titanic dataset <a name='2.6'></a>\n",
    "\n",
    "The sinking of the RMS Titanic is one of the most infamous shipwrecks in history.  On April 15, 1912, during her maiden voyage, the Titanic sank after colliding with an iceberg. The file *titanic.csv* contains data of 1309 passengers who were on the ship. For each passenger, the following data are recorded:\n",
    "* survival - Survival (0 = No; 1 = Yes)\n",
    "* class - Passenger Class (1 = 1st; 2 = 2nd; 3 = 3rd)\n",
    "* name - Name\n",
    "* sex - Sex\n",
    "* age - Age\n",
    "* sibsp - Number of Siblings/Spouses Aboard\n",
    "* parch - Number of Parents/Children Aboard\n",
    "* ticket - Ticket Number\n",
    "* fare - Passenger Fare\n",
    "* cabin - Cabin\n",
    "* embarked - Port of Embarkation (C = Cherbourg; Q = Queenstown; S = Southampton)\n",
    "* boat - Lifeboat (if survived)\n",
    "* body - Body number (if did not survive and the body was recovered)\n",
    "\n",
    "***Note: many popular datasets have sex as a feature where the possible values are male and female. This representation reflects how the data were collected and is not meant to imply that, for example, gender is binary.***\n",
    "\n",
    "In this exercise, you will perform a number of wrangling operations to manipulate and extract subsets of the data."
   ]
  },
  {
   "cell_type": "markdown",
   "metadata": {},
   "source": [
    "**Question 3(a)**  <br> {points: 1}   \n",
    "\n",
    "\n",
    "Load the `titanic.csv` dataset into a pandas dataframe named `titanic_df`.     \n",
    "*Hint: Remember where we store our data*"
   ]
  },
  {
   "cell_type": "code",
   "execution_count": null,
   "metadata": {
    "deletable": false,
    "nbgrader": {
     "cell_type": "code",
     "checksum": "1ec8f6cbd6b9a87249893842691d992f",
     "grade": false,
     "grade_id": "cell-6ca937ceb1f63f35",
     "locked": false,
     "schema_version": 3,
     "solution": true,
     "task": false
    }
   },
   "outputs": [],
   "source": [
    "titanic_df = None\n",
    "\n",
    "# your code here\n",
    "raise NotImplementedError # No Answer - remove if you provide an answer"
   ]
  },
  {
   "cell_type": "code",
   "execution_count": null,
   "metadata": {
    "deletable": false,
    "editable": false,
    "nbgrader": {
     "cell_type": "code",
     "checksum": "130593fab40c2e4e4606c007f6716107",
     "grade": true,
     "grade_id": "cell-8b69beeeb3a63066",
     "locked": true,
     "points": 1,
     "schema_version": 3,
     "solution": false,
     "task": false
    }
   },
   "outputs": [],
   "source": [
    "t.test_3a(titanic_df)"
   ]
  },
  {
   "cell_type": "markdown",
   "metadata": {},
   "source": [
    "**Question 3(b)**  <br> {points: 1}  \n",
    "\n",
    "\n",
    "The column names `sibsp` and `parch` are not very descriptive. Rename these columns to `siblings_spouses` and `parents_children` respectively."
   ]
  },
  {
   "cell_type": "code",
   "execution_count": null,
   "metadata": {
    "deletable": false,
    "nbgrader": {
     "cell_type": "code",
     "checksum": "bedc4ab1337deda730e6ded49e41c47c",
     "grade": false,
     "grade_id": "cell-848a01803315ae81",
     "locked": false,
     "schema_version": 3,
     "solution": true,
     "task": false
    }
   },
   "outputs": [],
   "source": [
    "# your code here\n",
    "raise NotImplementedError # No Answer - remove if you provide an answer"
   ]
  },
  {
   "cell_type": "code",
   "execution_count": null,
   "metadata": {
    "deletable": false,
    "editable": false,
    "nbgrader": {
     "cell_type": "code",
     "checksum": "a935a734b95869a080748732a64fd197",
     "grade": true,
     "grade_id": "cell-a971e94ff67950ce",
     "locked": true,
     "points": 1,
     "schema_version": 3,
     "solution": false,
     "task": false
    }
   },
   "outputs": [],
   "source": [
    "t.test_3b(titanic_df)"
   ]
  },
  {
   "cell_type": "markdown",
   "metadata": {},
   "source": [
    "**Question 3(c)**  <br> {points: 1}  \n",
    "\n",
    "Drop the columns `body` and `cabin`, using a single line of code and save it as an object named `dropped_df`."
   ]
  },
  {
   "cell_type": "code",
   "execution_count": null,
   "metadata": {
    "deletable": false,
    "nbgrader": {
     "cell_type": "code",
     "checksum": "079a886f3b6e7f5976cf0ade748c5032",
     "grade": false,
     "grade_id": "cell-d822e26557aef2f2",
     "locked": false,
     "schema_version": 3,
     "solution": true,
     "task": false
    }
   },
   "outputs": [],
   "source": [
    "dropped_df = None\n",
    "\n",
    "# your code here\n",
    "raise NotImplementedError # No Answer - remove if you provide an answer"
   ]
  },
  {
   "cell_type": "code",
   "execution_count": null,
   "metadata": {
    "deletable": false,
    "editable": false,
    "nbgrader": {
     "cell_type": "code",
     "checksum": "1a3aef7c99b89f281cf2f74b0631c603",
     "grade": true,
     "grade_id": "cell-2349fcdcc552bdd3",
     "locked": true,
     "points": 1,
     "schema_version": 3,
     "solution": false,
     "task": false
    }
   },
   "outputs": [],
   "source": [
    "t.test_3c(dropped_df)"
   ]
  },
  {
   "cell_type": "markdown",
   "metadata": {},
   "source": [
    "**Question 3(d)**  <br> {points: 2}  \n",
    "Which passengers survived (`survived = 1`) the disaster? Save the filtered **dataframe** in an object named `survived_titanic`. "
   ]
  },
  {
   "cell_type": "code",
   "execution_count": null,
   "metadata": {
    "deletable": false,
    "nbgrader": {
     "cell_type": "code",
     "checksum": "30fe84ea9b1029a29f60a1101204c27e",
     "grade": false,
     "grade_id": "cell-58d4de705145af3c",
     "locked": false,
     "schema_version": 3,
     "solution": true,
     "task": false
    }
   },
   "outputs": [],
   "source": [
    "survived_titanic = None\n",
    "\n",
    "# your code here\n",
    "raise NotImplementedError # No Answer - remove if you provide an answer"
   ]
  },
  {
   "cell_type": "code",
   "execution_count": null,
   "metadata": {
    "deletable": false,
    "editable": false,
    "nbgrader": {
     "cell_type": "code",
     "checksum": "b3e9d7b7bf48f44397d3bda1f18209d8",
     "grade": true,
     "grade_id": "cell-d337093c3836b042",
     "locked": true,
     "points": 2,
     "schema_version": 3,
     "solution": false,
     "task": false
    }
   },
   "outputs": [],
   "source": [
    "assert 'survived_titanic' in locals(), \"Your answer should be named 'survived_titanic'\"\n",
    "\n",
    "# Note that this test has been hidden intentionally.\n",
    "# It will provide no feedback as to the correctness of your answers.\n",
    "# Thus, it is up to you to decide if your answer is sufficiently correct."
   ]
  },
  {
   "cell_type": "markdown",
   "metadata": {},
   "source": [
    "**Question 3(e)**  <br> {points: 1}  \n",
    "How many people survived the titanic?       \n",
    "Save this as just a number in an object named `survivors`."
   ]
  },
  {
   "cell_type": "code",
   "execution_count": null,
   "metadata": {
    "deletable": false,
    "nbgrader": {
     "cell_type": "code",
     "checksum": "1200abd4bf532e4e8892f9e05ef8f787",
     "grade": false,
     "grade_id": "cell-33a45d51a162c2aa",
     "locked": false,
     "schema_version": 3,
     "solution": true,
     "task": false
    }
   },
   "outputs": [],
   "source": [
    "survivors = None\n",
    "\n",
    "# your code here\n",
    "raise NotImplementedError # No Answer - remove if you provide an answer"
   ]
  },
  {
   "cell_type": "code",
   "execution_count": null,
   "metadata": {
    "deletable": false,
    "editable": false,
    "nbgrader": {
     "cell_type": "code",
     "checksum": "92061b57f8bf0f55e85593f09d279701",
     "grade": true,
     "grade_id": "cell-18b12e16e1cc9d38",
     "locked": true,
     "points": 1,
     "schema_version": 3,
     "solution": false,
     "task": false
    }
   },
   "outputs": [],
   "source": [
    "t.test_3e(survivors)"
   ]
  },
  {
   "cell_type": "markdown",
   "metadata": {},
   "source": [
    "**Question 3(f)**  <br> {points: 1}  \n",
    "\n",
    "Which passengers were in first class and younger than 16?   \n",
    "Save the filtered **dataframe** in an object named `first_class_pass`. "
   ]
  },
  {
   "cell_type": "code",
   "execution_count": null,
   "metadata": {
    "deletable": false,
    "nbgrader": {
     "cell_type": "code",
     "checksum": "1447a960263ed38a48e36db9807d6d78",
     "grade": false,
     "grade_id": "cell-3a0619ef6d2af5a2",
     "locked": false,
     "schema_version": 3,
     "solution": true,
     "task": false
    }
   },
   "outputs": [],
   "source": [
    "first_class_pass = None\n",
    "\n",
    "# your code here\n",
    "raise NotImplementedError # No Answer - remove if you provide an answer"
   ]
  },
  {
   "cell_type": "code",
   "execution_count": null,
   "metadata": {
    "deletable": false,
    "editable": false,
    "nbgrader": {
     "cell_type": "code",
     "checksum": "1490360a440112487bd324e2528a808e",
     "grade": true,
     "grade_id": "cell-4ed4057ebf7bf52f",
     "locked": true,
     "points": 1,
     "schema_version": 3,
     "solution": false,
     "task": false
    }
   },
   "outputs": [],
   "source": [
    "t.test_3f(first_class_pass)"
   ]
  },
  {
   "cell_type": "markdown",
   "metadata": {},
   "source": [
    "**Question 3(g)**  <br> {points: 1}  \n",
    "\n",
    "Make a new dataframe containing only the columns `age` and `fare` on the full `titanic_df` dataframe and take the mean of these columns using chaining.   \n",
    "Save it as an object named  `mean_age_fare`.\n"
   ]
  },
  {
   "cell_type": "code",
   "execution_count": null,
   "metadata": {
    "deletable": false,
    "nbgrader": {
     "cell_type": "code",
     "checksum": "877efcbc8c09225f0e01d94b037ccd4b",
     "grade": false,
     "grade_id": "cell-2e89f890b11155df",
     "locked": false,
     "schema_version": 3,
     "solution": true,
     "task": false
    }
   },
   "outputs": [],
   "source": [
    "mean_age_fare= None \n",
    "\n",
    "# your code here\n",
    "raise NotImplementedError # No Answer - remove if you provide an answer"
   ]
  },
  {
   "cell_type": "code",
   "execution_count": null,
   "metadata": {
    "deletable": false,
    "editable": false,
    "nbgrader": {
     "cell_type": "code",
     "checksum": "63e1743c038e79c4c259c03dece5acaa",
     "grade": true,
     "grade_id": "cell-d73c0f21bdebe3df",
     "locked": true,
     "points": 1,
     "schema_version": 3,
     "solution": false,
     "task": false
    }
   },
   "outputs": [],
   "source": [
    "t.test_3g(mean_age_fare)"
   ]
  },
  {
   "cell_type": "markdown",
   "metadata": {},
   "source": [
    "**Question 3(h)**  <br> {points: 1}  \n",
    "\n",
    "Let's make a groupby object by the column `sex`  on our full dataframe `titanic_df` and find the average value each of each column for `male` and `female` passengers.    \n",
    "Save the results in a **dataframe** object named `titanic_sex_mean`."
   ]
  },
  {
   "cell_type": "code",
   "execution_count": null,
   "metadata": {
    "deletable": false,
    "nbgrader": {
     "cell_type": "code",
     "checksum": "43a9683838df66bdd560af149c89b66d",
     "grade": false,
     "grade_id": "cell-2518084eff7a7e46",
     "locked": false,
     "schema_version": 3,
     "solution": true,
     "task": false
    }
   },
   "outputs": [],
   "source": [
    "titanic_sex_mean = None\n",
    "\n",
    "# your code here\n",
    "raise NotImplementedError # No Answer - remove if you provide an answer"
   ]
  },
  {
   "cell_type": "code",
   "execution_count": null,
   "metadata": {
    "deletable": false,
    "editable": false,
    "nbgrader": {
     "cell_type": "code",
     "checksum": "efca3f01e3ce09e5bf5874810c609ea1",
     "grade": true,
     "grade_id": "cell-c59fc52c7c1f03c4",
     "locked": true,
     "points": 1,
     "schema_version": 3,
     "solution": false,
     "task": false
    }
   },
   "outputs": [],
   "source": [
    "t.test_3h(titanic_sex_mean)"
   ]
  },
  {
   "cell_type": "markdown",
   "metadata": {},
   "source": [
    "**Question 3(i)**  <br> {points: 1}  \n",
    "\n",
    "To answer the question, assign the letter associated with the correct answer to a variable in the code cell below:   \n",
    "Which statement below is accurate?\n",
    "\n",
    "A. The average age of male passengers is lower than the total passenger mean age.    \n",
    "\n",
    "B. The female passenger fare average is greater than the male passenger fare average.  \n",
    "\n",
    "C. The male fare average is greater than than the total passenger fare average. \n",
    "\n",
    "\n",
    "*Answer in the cell below using the uppercase letter associated with your answer. Place your answer between `\"\"`, assign the correct answer to an object called `answer3_i`.*"
   ]
  },
  {
   "cell_type": "code",
   "execution_count": null,
   "metadata": {
    "deletable": false,
    "nbgrader": {
     "cell_type": "code",
     "checksum": "14f2ba2bf5bf9c2877c77bfea9763d9c",
     "grade": false,
     "grade_id": "cell-b14e8438781ba083",
     "locked": false,
     "schema_version": 3,
     "solution": true,
     "task": false
    }
   },
   "outputs": [],
   "source": [
    "answer3_i = None\n",
    "\n",
    "# your code here\n",
    "raise NotImplementedError # No Answer - remove if you provide an answer"
   ]
  },
  {
   "cell_type": "code",
   "execution_count": null,
   "metadata": {
    "deletable": false,
    "editable": false,
    "nbgrader": {
     "cell_type": "code",
     "checksum": "48e60b856da1d15ac4890bd9d2b94960",
     "grade": true,
     "grade_id": "cell-884d987b24fb9b40",
     "locked": true,
     "points": 1,
     "schema_version": 3,
     "solution": false,
     "task": false
    }
   },
   "outputs": [],
   "source": [
    "t.test_3i(answer3_i)"
   ]
  },
  {
   "cell_type": "markdown",
   "metadata": {},
   "source": [
    "**Question 3(j)**  <br> {points: 1}  \n",
    "\n",
    "What was the highest and lowest fair paid by male and female passengers? Use `.agg()` and save the dataframe as object `high_low_fare`.  \n"
   ]
  },
  {
   "cell_type": "code",
   "execution_count": null,
   "metadata": {
    "deletable": false,
    "nbgrader": {
     "cell_type": "code",
     "checksum": "461d2d965034499bfeae2f0ac098ad96",
     "grade": false,
     "grade_id": "cell-01ad2d8d34762607",
     "locked": false,
     "schema_version": 3,
     "solution": true,
     "task": false
    }
   },
   "outputs": [],
   "source": [
    "high_low_fare = None \n",
    "\n",
    "# your code here\n",
    "raise NotImplementedError # No Answer - remove if you provide an answer"
   ]
  },
  {
   "cell_type": "code",
   "execution_count": null,
   "metadata": {
    "deletable": false,
    "editable": false,
    "nbgrader": {
     "cell_type": "code",
     "checksum": "9b08c6f0b13c6009b17f463f94ec50ed",
     "grade": true,
     "grade_id": "cell-5d68da022e6dfa03",
     "locked": true,
     "points": 1,
     "schema_version": 3,
     "solution": false,
     "task": false
    }
   },
   "outputs": [],
   "source": [
    "t.test_3j(high_low_fare)"
   ]
  },
  {
   "cell_type": "markdown",
   "metadata": {},
   "source": [
    "**Question 3(k)**  <br> {points: 1}  \n",
    "\n",
    "Use chaining to obtain the name of the youngest known female passenger and save it as object `youngest_female`.    \n",
    "This object should be a value not a dataframe."
   ]
  },
  {
   "cell_type": "code",
   "execution_count": null,
   "metadata": {
    "deletable": false,
    "nbgrader": {
     "cell_type": "code",
     "checksum": "e519948df159b6e766842036385a4172",
     "grade": false,
     "grade_id": "cell-2af735c6c0c8e9ed",
     "locked": false,
     "schema_version": 3,
     "solution": true,
     "task": false
    }
   },
   "outputs": [],
   "source": [
    "youngest_female = None\n",
    "\n",
    "# your code here\n",
    "raise NotImplementedError # No Answer - remove if you provide an answer\n"
   ]
  },
  {
   "cell_type": "code",
   "execution_count": null,
   "metadata": {
    "deletable": false,
    "editable": false,
    "nbgrader": {
     "cell_type": "code",
     "checksum": "11c48bfd3856a8d6ebfbf19851e3bc15",
     "grade": true,
     "grade_id": "cell-b1c0624507f4f69e",
     "locked": true,
     "points": 1,
     "schema_version": 3,
     "solution": false,
     "task": false
    }
   },
   "outputs": [],
   "source": [
    "t.test_3k(youngest_female)"
   ]
  },
  {
   "cell_type": "markdown",
   "metadata": {},
   "source": [
    "## 4. Titanic Analysis  \n",
    "\n",
    "\n",
    "In exercise 3, we explored the dataset somewhat arbitrarily, trying to gain some insights into the data. In this exercise, we will carry out a number of steps to answer a single analysis question. \n",
    "\n",
    "> \"How does a passenger's class, sex and age affect their chance of survival?\"\n",
    "\n",
    "Use chaining to answer each question.\n",
    "\n",
    "One thing you may notice in the data is that there are missing values in the survived column that present themselves as`NaN`. This can be a potential problem as it could cause the analyst to draw inaccurate conclusions about the data. For this question, we will disregard this issue to concentrate on the skills we have learned up until now. We will, however, be returning to this topic further into the course and discuss how missing data effects analysis and different methods of handling them."
   ]
  },
  {
   "cell_type": "markdown",
   "metadata": {},
   "source": [
    "**Question 4(a)**  <br> {points: 1}  \n",
    "\n",
    "Beginning the analysis with passenger class, find the mean survival rate of the 3 classes and plot this as a bar chart. Name the object `group_class`. Make sure that you give the plot a descriptive title and y-axis label.\n",
    "You will need to groupby `pclass` and inorder to find the `mean` survival rate. Don't forget to `reset_index()` when plotting."
   ]
  },
  {
   "cell_type": "code",
   "execution_count": null,
   "metadata": {
    "deletable": false,
    "nbgrader": {
     "cell_type": "code",
     "checksum": "bdcf8ca150adf85b49b429db58b859e8",
     "grade": false,
     "grade_id": "cell-0390e77765430881",
     "locked": false,
     "schema_version": 3,
     "solution": true,
     "task": false
    }
   },
   "outputs": [],
   "source": [
    "# your code here\n",
    "raise NotImplementedError # No Answer - remove if you provide an answer"
   ]
  },
  {
   "cell_type": "code",
   "execution_count": null,
   "metadata": {
    "deletable": false,
    "editable": false,
    "nbgrader": {
     "cell_type": "code",
     "checksum": "a1565ea48dbec9211261eaea5c73f16f",
     "grade": true,
     "grade_id": "cell-c73402b6c72374a4",
     "locked": true,
     "points": 1,
     "schema_version": 3,
     "solution": false,
     "task": false
    }
   },
   "outputs": [],
   "source": [
    "t.test_4a(group_class)"
   ]
  },
  {
   "cell_type": "markdown",
   "metadata": {},
   "source": [
    "**Question 4(b)**  <br> {points: 1}  \n",
    "\n",
    "To answer the question, assign the letter associated with the correct answer to a variable in the code cell below:   \n",
    "Which statement below is accurate?\n",
    "\n",
    "A. Passengers from 1st class had the highest survival rate\n",
    "\n",
    "B. Passengers from 2nd class had the highest survival rate \n",
    "\n",
    "C. Passengers from 3rd class had the highest survival rate\n",
    "\n",
    "\n",
    "*Answer in the cell below using the uppercase letter associated with your answer. Place your answer between `\"\"`, assign the correct answer to an object called `answer4_b`.*"
   ]
  },
  {
   "cell_type": "code",
   "execution_count": null,
   "metadata": {
    "deletable": false,
    "nbgrader": {
     "cell_type": "code",
     "checksum": "2227a7d9f721e37182847d947301dbea",
     "grade": false,
     "grade_id": "cell-76b9ead78ecfb0e0",
     "locked": false,
     "schema_version": 3,
     "solution": true,
     "task": false
    }
   },
   "outputs": [],
   "source": [
    "answer4_b = None\n",
    "\n",
    "# your code here\n",
    "raise NotImplementedError # No Answer - remove if you provide an answer"
   ]
  },
  {
   "cell_type": "code",
   "execution_count": null,
   "metadata": {
    "deletable": false,
    "editable": false,
    "nbgrader": {
     "cell_type": "code",
     "checksum": "dc15db98791a1e1273d915170bbd8ffb",
     "grade": true,
     "grade_id": "cell-7dbcb42fb864375a",
     "locked": true,
     "points": 1,
     "schema_version": 3,
     "solution": false,
     "task": false
    }
   },
   "outputs": [],
   "source": [
    "t.test_4b(answer4_b)"
   ]
  },
  {
   "cell_type": "markdown",
   "metadata": {},
   "source": [
    "**Question 4(c)**  <br> {points: 1}  \n",
    "\n",
    "Plot the mean survival rates for each sex using a bar chart. Name the object `group_sex`. Make sure that you give the plot a descriptive title and y-axis label. You will need to groupby `sex` in order to find the `mean` survival rate. Don't forget to `reset_index()` when plotting.    "
   ]
  },
  {
   "cell_type": "code",
   "execution_count": null,
   "metadata": {
    "deletable": false,
    "nbgrader": {
     "cell_type": "code",
     "checksum": "a19a88e88d77e05a2effb48798bf3bb9",
     "grade": false,
     "grade_id": "cell-3ec8f18303bb6b2f",
     "locked": false,
     "schema_version": 3,
     "solution": true,
     "task": false
    }
   },
   "outputs": [],
   "source": [
    "# your code here\n",
    "raise NotImplementedError # No Answer - remove if you provide an answer"
   ]
  },
  {
   "cell_type": "code",
   "execution_count": null,
   "metadata": {
    "deletable": false,
    "editable": false,
    "nbgrader": {
     "cell_type": "code",
     "checksum": "e3aa8402a01bb14f19081ec42818b7e0",
     "grade": true,
     "grade_id": "cell-f13869dd0bead0a2",
     "locked": true,
     "points": 1,
     "schema_version": 3,
     "solution": false,
     "task": false
    }
   },
   "outputs": [],
   "source": [
    "t.test_4c(group_sex)"
   ]
  },
  {
   "cell_type": "markdown",
   "metadata": {},
   "source": [
    "**Question 4(d)**  <br> {points: 1}  \n",
    "\n",
    "To answer the question, assign the letter associated with the correct answer to a variable in the code cell below:   \n",
    "Which statement below is accurate?\n",
    "\n",
    "A. Male passengers had the highest survival rate\n",
    "\n",
    "B. Female passengers had the highest survival rate \n",
    "\n",
    "\n",
    "*Answer in the cell below using the uppercase letter associated with your answer. Place your answer between `\"\"`, assign the correct answer to an object called `answer4_d`.*"
   ]
  },
  {
   "cell_type": "code",
   "execution_count": null,
   "metadata": {
    "deletable": false,
    "nbgrader": {
     "cell_type": "code",
     "checksum": "5aed63564a666700c2c9cf542e340859",
     "grade": false,
     "grade_id": "cell-9149cc7bdba9811f",
     "locked": false,
     "schema_version": 3,
     "solution": true,
     "task": false
    }
   },
   "outputs": [],
   "source": [
    "answer4_d = None\n",
    "\n",
    "# your code here\n",
    "raise NotImplementedError # No Answer - remove if you provide an answer"
   ]
  },
  {
   "cell_type": "code",
   "execution_count": null,
   "metadata": {
    "deletable": false,
    "editable": false,
    "nbgrader": {
     "cell_type": "code",
     "checksum": "75507e8ea866cd15d668f9d011c719ea",
     "grade": true,
     "grade_id": "cell-1b1831223a4df316",
     "locked": true,
     "points": 1,
     "schema_version": 3,
     "solution": false,
     "task": false
    }
   },
   "outputs": [],
   "source": [
    "t.test_4d(answer4_d)"
   ]
  },
  {
   "cell_type": "markdown",
   "metadata": {},
   "source": [
    "**Question 4(e)**  <br> {points: 1}  \n",
    "\n",
    "\n",
    "Before we can do anything let's categorize the ages into 4 age classes into a column named `age_group`. Use the following conditions for each age class\n",
    "- younger than 20 column values → \"youth\"   \n",
    "- 20-39 column values → \"adult\"\n",
    "- 40-59 column values → \"older adult\"   \n",
    "- Age 60 and older column values → \"senior\" \n",
    "\n",
    "Find the mean survival rate of each `age_group` and plot this as a bar chart. Name the object `age_plot`."
   ]
  },
  {
   "cell_type": "code",
   "execution_count": null,
   "metadata": {
    "deletable": false,
    "nbgrader": {
     "cell_type": "code",
     "checksum": "3042d3ed80c2beb3af85e7a461e25aa1",
     "grade": false,
     "grade_id": "cell-440f649f81785f5c",
     "locked": false,
     "schema_version": 3,
     "solution": true,
     "task": false
    }
   },
   "outputs": [],
   "source": [
    "# your code here\n",
    "raise NotImplementedError # No Answer - remove if you provide an answer"
   ]
  },
  {
   "cell_type": "code",
   "execution_count": null,
   "metadata": {
    "deletable": false,
    "editable": false,
    "nbgrader": {
     "cell_type": "code",
     "checksum": "f7a5049bf6101ed055de8080eb291515",
     "grade": true,
     "grade_id": "cell-829cd55e54c6514b",
     "locked": true,
     "points": 1,
     "schema_version": 3,
     "solution": false,
     "task": false
    }
   },
   "outputs": [],
   "source": [
    "t.test_4e(age_plot)"
   ]
  },
  {
   "cell_type": "markdown",
   "metadata": {},
   "source": [
    "**Question 4(f)**  <br> {points: 2}  \n",
    "\n",
    "To answer the question, assign the letter associated with the correct answer to a variable in the code cell below:   \n",
    "Which statement below is accurate?\n",
    "\n",
    "A. youth passengers had the highest survival rate\n",
    "\n",
    "B. adult passengers had the highest survival rate \n",
    "\n",
    "C. older adult passengers had the highest survival rate \n",
    "\n",
    "D. senior passengers had the highest survival rate \n",
    "\n",
    "\n",
    "*Answer in the cell below using the uppercase letter associated with your answer. Place your answer between `\"\"`, assign the correct answer to an object called `answer4_f`.*\n"
   ]
  },
  {
   "cell_type": "code",
   "execution_count": null,
   "metadata": {
    "deletable": false,
    "nbgrader": {
     "cell_type": "code",
     "checksum": "aeeb6f07d65d5d5684393c8f63d2228e",
     "grade": false,
     "grade_id": "cell-490bc519ab3b379d",
     "locked": false,
     "schema_version": 3,
     "solution": true,
     "task": false
    }
   },
   "outputs": [],
   "source": [
    "answer4_f = None\n",
    "\n",
    "# your code here\n",
    "raise NotImplementedError # No Answer - remove if you provide an answer"
   ]
  },
  {
   "cell_type": "code",
   "execution_count": null,
   "metadata": {
    "deletable": false,
    "editable": false,
    "nbgrader": {
     "cell_type": "code",
     "checksum": "ca0709fb93e254222c78d072fcd2405f",
     "grade": true,
     "grade_id": "cell-c6b572c05ef2cec7",
     "locked": true,
     "points": 2,
     "schema_version": 3,
     "solution": false,
     "task": false
    }
   },
   "outputs": [],
   "source": [
    "assert 'answer4_f' in locals(), \"Your answer should be named 'answer4_f'\"\n",
    "\n",
    "# Note that this test has been hidden intentionally.\n",
    "# It will provide no feedback as to the correctness of your answers.\n",
    "# Thus, it is up to you to decide if your answer is sufficiently correct."
   ]
  },
  {
   "cell_type": "markdown",
   "metadata": {},
   "source": [
    "**Question 4(g)**  <br> {points: 1}  \n",
    "\n",
    "Let's go one step further now and do something a little new. Make a groupby object on 2 columns. Use columns `pclass` and `sex`. This is will give 6 separate groups: \n",
    "- Female and 1st class\n",
    "- Female and 2nd class\n",
    "- Female and 3rd class\n",
    "- Male and 1st class\n",
    "- Male and 2nd class\n",
    "- Male and 3rd class\n",
    "\n",
    "Next, find the mean value of the `survived` rate using `.loc[]` and sort them in decreasing survival rate. "
   ]
  },
  {
   "cell_type": "code",
   "execution_count": null,
   "metadata": {
    "deletable": false,
    "nbgrader": {
     "cell_type": "code",
     "checksum": "ccacf140f7eac7817cf4c9369a75dbc7",
     "grade": false,
     "grade_id": "cell-839b6becf2c070f7",
     "locked": false,
     "schema_version": 3,
     "solution": true,
     "task": false
    }
   },
   "outputs": [],
   "source": [
    "group_class_age= None\n",
    "\n",
    "# your code here\n",
    "raise NotImplementedError # No Answer - remove if you provide an answer"
   ]
  },
  {
   "cell_type": "code",
   "execution_count": null,
   "metadata": {
    "deletable": false,
    "editable": false,
    "nbgrader": {
     "cell_type": "code",
     "checksum": "2aef1239e28380c7d4f5a5f16f288bd4",
     "grade": true,
     "grade_id": "cell-e72552bb0a719e28",
     "locked": true,
     "points": 1,
     "schema_version": 3,
     "solution": false,
     "task": false
    }
   },
   "outputs": [],
   "source": [
    "t.test_4g(group_class_age)"
   ]
  },
  {
   "cell_type": "markdown",
   "metadata": {},
   "source": [
    "**Question 4(h)**  <br> {points: 1}  \n",
    "Now that you know how to group on multiple columns, We are going to try it on all 3 of the columns; `pclass`, `sex` and `age` . \n",
    "\n",
    "What is the maximum number of groups possible if we group by all 3 columns? \n",
    "\n",
    "\n",
    "\n",
    "\n",
    "\n",
    "*Answer in the cell below and assign the correct answer to an object called `answer4_h`*\n"
   ]
  },
  {
   "cell_type": "code",
   "execution_count": null,
   "metadata": {
    "deletable": false,
    "nbgrader": {
     "cell_type": "code",
     "checksum": "a1d04dd16cbec2f33cb60e1f8d4cde60",
     "grade": false,
     "grade_id": "cell-f75154cca3c9749a",
     "locked": false,
     "schema_version": 3,
     "solution": true,
     "task": false
    }
   },
   "outputs": [],
   "source": [
    "answer4_h = None\n",
    "\n",
    "# your code here\n",
    "raise NotImplementedError # No Answer - remove if you provide an answer\n"
   ]
  },
  {
   "cell_type": "code",
   "execution_count": null,
   "metadata": {
    "deletable": false,
    "editable": false,
    "nbgrader": {
     "cell_type": "code",
     "checksum": "c4cabd411bc117ecec883ac00dd2cb01",
     "grade": true,
     "grade_id": "cell-9ccb283f50c544eb",
     "locked": true,
     "points": 1,
     "schema_version": 3,
     "solution": false,
     "task": false
    }
   },
   "outputs": [],
   "source": [
    "t.test_4h(answer4_h)"
   ]
  },
  {
   "cell_type": "markdown",
   "metadata": {},
   "source": [
    "**Question 4(i)**  <br> {points: 1}  \n",
    "\n",
    "\n",
    "Groupby `pclass`, `sex`, and `age_group` and find the mean value of the `survived` rate using `.loc[]`. Sort them in decreasing survival rate,  similarly to what you did in question 4(g)"
   ]
  },
  {
   "cell_type": "code",
   "execution_count": null,
   "metadata": {
    "deletable": false,
    "nbgrader": {
     "cell_type": "code",
     "checksum": "ae9aa9bdeab77b42abcb455c06fefd13",
     "grade": false,
     "grade_id": "cell-f2f336f9cc068465",
     "locked": false,
     "schema_version": 3,
     "solution": true,
     "task": false
    }
   },
   "outputs": [],
   "source": [
    "# your code here\n",
    "raise NotImplementedError # No Answer - remove if you provide an answer\n"
   ]
  },
  {
   "cell_type": "code",
   "execution_count": null,
   "metadata": {
    "deletable": false,
    "editable": false,
    "nbgrader": {
     "cell_type": "code",
     "checksum": "08205c9ae22dccf76153c986fed26727",
     "grade": true,
     "grade_id": "cell-f60510077774b6c3",
     "locked": true,
     "points": 1,
     "schema_version": 3,
     "solution": false,
     "task": false
    }
   },
   "outputs": [],
   "source": [
    "t.test_4i(group_class_sex_age)"
   ]
  },
  {
   "cell_type": "markdown",
   "metadata": {},
   "source": [
    "**Question 4(j)**  <br> {points: 1}  \n",
    "\n",
    "Which of the 24 groups had a 100% rate of survival? Answer by creating an object with the class, then sex, then age group of the highest survival rate group. For example, if it were 2nd class adult males, your answer would be `[2, 'male', 'adult']`\n"
   ]
  },
  {
   "cell_type": "code",
   "execution_count": null,
   "metadata": {
    "deletable": false,
    "nbgrader": {
     "cell_type": "code",
     "checksum": "20a1e0dfad36043dea43e1a355b8a307",
     "grade": false,
     "grade_id": "cell-87140b36d2ef7f96",
     "locked": false,
     "schema_version": 3,
     "solution": true,
     "task": false
    }
   },
   "outputs": [],
   "source": [
    "answer4_j = [2, 'male', 'adult']\n",
    "\n",
    "# your code here\n",
    "raise NotImplementedError # No Answer - remove if you provide an answer"
   ]
  },
  {
   "cell_type": "code",
   "execution_count": null,
   "metadata": {
    "deletable": false,
    "editable": false,
    "nbgrader": {
     "cell_type": "code",
     "checksum": "c0c9f75a5f6848320579935e5c97de70",
     "grade": true,
     "grade_id": "cell-01fdec6b2e784aa3",
     "locked": true,
     "points": 1,
     "schema_version": 3,
     "solution": false,
     "task": false
    }
   },
   "outputs": [],
   "source": [
    "t.test_4j(answer4_j)"
   ]
  },
  {
   "cell_type": "markdown",
   "metadata": {},
   "source": [
    "Before submitting your assignment please do the following:\n",
    "\n",
    "- Read through your solutions\n",
    "- **Restart your kernel and clear output and rerun your cells from top to bottom** \n",
    "- Makes sure that none of your code is broken \n",
    "- Verify that the tests from the questions you answered have obtained the output \"Success\"\n",
    "\n",
    "This is a simple way to make sure that you are submitting all the variables needed to mark the assignment. This method should help avoid losing marks due to changes in your environment.  "
   ]
  },
  {
   "cell_type": "markdown",
   "metadata": {},
   "source": [
    "## Attributions\n",
    "- City of Vancouver Open Data portal - [Street Trees Dataset](https://opendata.vancouver.ca/explore/dataset/street-trees/information/?disjunctive.species_name&disjunctive.common_name&disjunctive.height_range_id)\n",
    "- MDS DSCI 523 - Data Wrangling course - [MDS's GitHub website](hhttps://ubc-mds.github.io/) \n"
   ]
  },
  {
   "cell_type": "markdown",
   "metadata": {},
   "source": [
    "## Module Debriefing\n",
    "\n",
    "If this video is not showing up below, click on the cell and click the ▶ button in the toolbar above."
   ]
  },
  {
   "cell_type": "code",
   "execution_count": null,
   "metadata": {},
   "outputs": [],
   "source": [
    "from IPython.display import YouTubeVideo\n",
    "YouTubeVideo('zHK_l0YPcKA', width=854, height=480)"
   ]
  },
  {
   "cell_type": "code",
   "execution_count": null,
   "metadata": {},
   "outputs": [],
   "source": []
  }
 ],
 "metadata": {
  "jupytext": {
   "cell_metadata_filter": "-all",
   "notebook_metadata_filter": "-all"
  },
  "kernelspec": {
   "display_name": "Python 3",
   "language": "python",
   "name": "python3"
  },
  "language_info": {
   "codemirror_mode": {
    "name": "ipython",
    "version": 3
   },
   "file_extension": ".py",
   "mimetype": "text/x-python",
   "name": "python",
   "nbconvert_exporter": "python",
   "pygments_lexer": "ipython3",
   "version": "3.8.5"
  },
  "toc": {
   "base_numbering": 1,
   "nav_menu": {},
   "number_sections": true,
   "sideBar": true,
   "skip_h1_title": false,
   "title_cell": "Table of Contents",
   "title_sidebar": "Contents",
   "toc_cell": false,
   "toc_position": {},
   "toc_section_display": true,
   "toc_window_display": false
  }
 },
 "nbformat": 4,
 "nbformat_minor": 4
}
