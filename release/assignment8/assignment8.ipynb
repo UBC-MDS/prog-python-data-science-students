{
 "cells": [
  {
   "cell_type": "markdown",
   "metadata": {},
   "source": [
    "# Programming in Python for Data Science \n",
    "\n",
    "# Assignment 8: A Slice of NumPy and Advanced Data Wrangling"
   ]
  },
  {
   "cell_type": "markdown",
   "metadata": {},
   "source": [
    "You can't learn technical subjects without hands-on practice. The assignments are an important part of the course. To submit this assignment you will need to make sure that you save your Jupyter notebook. \n",
    "\n",
    "Below are the links of 2 videos that explain:\n",
    "\n",
    "1. [How to save your Jupyter notebook](https://youtu.be/0aoLgBoAUSA) and,       \n",
    "2. [How to answer a question in a Jupyter notebook assignment](https://youtu.be/7j0WKhI3W4s).       "
   ]
  },
  {
   "cell_type": "markdown",
   "metadata": {},
   "source": [
    "### Assignment Learning Goals:\n",
    "\n",
    "By the end of the module, students are expected to:\n",
    "\n",
    "- Use [NumPy](https://numpy.org/) to create ndarrays with `np.array()` and from functions such as `np.arrange()`, `np.linspace()` and `np.ones()`.\n",
    "- Describe the shape, dimension and size of an array.\n",
    "- Identify null values in a dataframe and manage them by removing them using [`.dropna()`](https://pandas.pydata.org/pandas-docs/stable/reference/api/pandas.DataFrame.dropna.html) or replacing them using [`.fillna()`](https://pandas.pydata.org/pandas-docs/stable/reference/api/pandas.DataFrame.fillna.html).\n",
    "- Manipulate non-standard date/time formats into standard Pandas datetime using [`pd.to_datetime()`](https://pandas.pydata.org/pandas-docs/stable/reference/api/pandas.to_datetime.html).\n",
    "- Find, and replace text from a dataframe using verbs such as [`.replace()`](https://pandas.pydata.org/pandas-docs/stable/reference/api/pandas.DataFrame.replace.html) and [`.contains()`](https://pandas.pydata.org/pandas-docs/stable/reference/api/pandas.Series.str.contains.html).  \n",
    "\n",
    "\n",
    "This assignment covers [Module 8](https://prog-learn.mds.ubc.ca/en/module8) of the online course. You should complete this module before attempting this assignment."
   ]
  },
  {
   "cell_type": "markdown",
   "metadata": {},
   "source": [
    "Any place you see `...`, you must fill in the function, variable, or data to complete the code. Substitute the `None` and the `raise NotImplementedError # No Answer - remove if you provide an answer` with your completed code and answers then proceed to run the cell!"
   ]
  },
  {
   "cell_type": "markdown",
   "metadata": {},
   "source": [
    "Note that some of the questions in this assignment will have hidden tests. This means that no feedback will be given as to the correctness of your solution. It will be left up to you to decide if your answer is sufficiently correct. These questions are worth 2 points."
   ]
  },
  {
   "cell_type": "code",
   "execution_count": null,
   "metadata": {},
   "outputs": [],
   "source": [
    "# Import libraries needed for this lab\n",
    "import pandas as pd\n",
    "import numpy as np\n",
    "import test_assignment8 as t\n",
    "from hashlib import sha1\n",
    "import altair as alt\n",
    "import inspect"
   ]
  },
  {
   "cell_type": "markdown",
   "metadata": {},
   "source": [
    "## 1.  Using NumPy "
   ]
  },
  {
   "cell_type": "markdown",
   "metadata": {},
   "source": [
    "**Question 1(a)** <br> {points: 1}  \n",
    "\n",
    "Create a slice from `arr` named `answer_1b` of the values `[1,5,9]`."
   ]
  },
  {
   "cell_type": "code",
   "execution_count": null,
   "metadata": {
    "deletable": false,
    "nbgrader": {
     "cell_type": "code",
     "checksum": "ccb41cc6c4b9d2064caa428628f427c5",
     "grade": false,
     "grade_id": "cell-7b80f2b644a4757d",
     "locked": false,
     "schema_version": 3,
     "solution": true,
     "task": false
    }
   },
   "outputs": [],
   "source": [
    "arr = np.arange(1, 11)\n",
    "answer_1a = None\n",
    "\n",
    "# your code here\n",
    "raise NotImplementedError # No Answer - remove if you provide an answer"
   ]
  },
  {
   "cell_type": "code",
   "execution_count": null,
   "metadata": {
    "deletable": false,
    "editable": false,
    "nbgrader": {
     "cell_type": "code",
     "checksum": "dfbb05c5094ee8e379fcb1036c7b57dc",
     "grade": true,
     "grade_id": "cell-233c610c3e325009",
     "locked": true,
     "points": 1,
     "schema_version": 3,
     "solution": false,
     "task": false
    }
   },
   "outputs": [],
   "source": [
    "t.test_1a(answer_1a)"
   ]
  },
  {
   "cell_type": "markdown",
   "metadata": {},
   "source": [
    "**Question 1(b)** <br> {points: 1}  \n",
    "\n",
    "Create a 2d array named `answer_1a` of shape (2,2) filled with value 3.4 using `np.full()`."
   ]
  },
  {
   "cell_type": "code",
   "execution_count": null,
   "metadata": {
    "deletable": false,
    "nbgrader": {
     "cell_type": "code",
     "checksum": "b33d6525a69d602dc138f7d5227a221a",
     "grade": false,
     "grade_id": "cell-cb7051f7b662526f",
     "locked": false,
     "schema_version": 3,
     "solution": true,
     "task": false
    }
   },
   "outputs": [],
   "source": [
    "answer_1b = None\n",
    "\n",
    "# your code here\n",
    "raise NotImplementedError # No Answer - remove if you provide an answer"
   ]
  },
  {
   "cell_type": "code",
   "execution_count": null,
   "metadata": {
    "deletable": false,
    "editable": false,
    "nbgrader": {
     "cell_type": "code",
     "checksum": "9f04605997a99780f13c360d6e445c1b",
     "grade": true,
     "grade_id": "cell-03b999c84ddf04cf",
     "locked": true,
     "points": 1,
     "schema_version": 3,
     "solution": false,
     "task": false
    }
   },
   "outputs": [],
   "source": [
    "t.test_1b(answer_1b)"
   ]
  },
  {
   "cell_type": "markdown",
   "metadata": {},
   "source": [
    "**Question 1(c)** <br> {points: 1}  \n",
    "\n",
    "Create a 3d array named `answer_1c` of shape (2, 3, 4) using `np.ones()`."
   ]
  },
  {
   "cell_type": "code",
   "execution_count": null,
   "metadata": {
    "deletable": false,
    "nbgrader": {
     "cell_type": "code",
     "checksum": "ca49b183ed72ade7f565188bfbd04777",
     "grade": false,
     "grade_id": "cell-d2f7a5586208696b",
     "locked": false,
     "schema_version": 3,
     "solution": true,
     "task": false
    }
   },
   "outputs": [],
   "source": [
    "answer_1c = None\n",
    "\n",
    "# your code here\n",
    "raise NotImplementedError # No Answer - remove if you provide an answer"
   ]
  },
  {
   "cell_type": "code",
   "execution_count": null,
   "metadata": {
    "deletable": false,
    "editable": false,
    "nbgrader": {
     "cell_type": "code",
     "checksum": "5acaebc1aa9f7386c493367424cc40b6",
     "grade": true,
     "grade_id": "cell-ff05643a3d8c885d",
     "locked": true,
     "points": 1,
     "schema_version": 3,
     "solution": false,
     "task": false
    }
   },
   "outputs": [],
   "source": [
    "t.test_1c(answer_1c)"
   ]
  },
  {
   "cell_type": "markdown",
   "metadata": {},
   "source": [
    "**Question 1(d)** <br> {points: 2}  \n",
    "\n",
    "Which of the following arrays are two dimensional? \n",
    "\n",
    " `array_1 = np.array([1, 4, 5, 6])`\n",
    "\n",
    " `array_2 = np.array([[1, 4, 5, 6]])`\n",
    "\n",
    " `array_3 = np.array([[1], [4], [5], [6]])`\n",
    "\n",
    " `array_4 = np.array([[[1, 4]], [[5, 6]]])`\n",
    "\n",
    "Save all possible answers as strings within a list.      \n",
    "Remember you can chose from the following data types:  \n",
    "\n",
    "***Example:***    \n",
    "\n",
    "`answer1_d = ['array_1', 'array_2']`\n"
   ]
  },
  {
   "cell_type": "code",
   "execution_count": null,
   "metadata": {
    "deletable": false,
    "nbgrader": {
     "cell_type": "code",
     "checksum": "c9813f8724293765ef209d13705345e1",
     "grade": false,
     "grade_id": "cell-f50baa637608027f",
     "locked": false,
     "schema_version": 3,
     "solution": true,
     "task": false
    }
   },
   "outputs": [],
   "source": [
    "answer1_d = None\n",
    "\n",
    "# your code here\n",
    "raise NotImplementedError # No Answer - remove if you provide an answer"
   ]
  },
  {
   "cell_type": "code",
   "execution_count": null,
   "metadata": {
    "deletable": false,
    "editable": false,
    "nbgrader": {
     "cell_type": "code",
     "checksum": "10ad2f8d2c42a4d7082af108a78445a9",
     "grade": true,
     "grade_id": "cell-61580423e6ff000f",
     "locked": true,
     "points": 2,
     "schema_version": 3,
     "solution": false,
     "task": false
    }
   },
   "outputs": [],
   "source": [
    "# check that the function exists\n",
    "assert 'answer1_d' in globals(\n",
    "), \"Please make sure that your solution is named 'answer1_d'\"\n",
    "\n",
    "# This test has been intentionally hidden. It will be up to you to decide if your solution\n",
    "# is sufficiently good."
   ]
  },
  {
   "cell_type": "markdown",
   "metadata": {},
   "source": [
    "## 2. DateTime Wrangling "
   ]
  },
  {
   "cell_type": "markdown",
   "metadata": {},
   "source": [
    "<a href=\"https://en.wikipedia.org/wiki/Chopped_(TV_series)\" target=\"_blank\">Chopped</a> is a cooking show aired in North America where 4 contestants must prepare a dish that incorporates unusual basket ingredients unknown to the contestants beforehand. The dishes are then presented to a panel of three celebrity chef judges where the contestant of the least liked dish is \"chopped\" from the competition. There are 3 rounds in the contest (\"Appetizer\", \"Entrée\", and \"Dessert\") and the winner of the final round is deemed the \"Chopped Champion\". \n",
    "\n",
    "[This Chopped open-source dataset](https://www.kaggle.com/jeffreybraun/chopped-10-years-of-episode-data) combines allows us to identify some insights into this popular TV series. \n"
   ]
  },
  {
   "cell_type": "markdown",
   "metadata": {},
   "source": [
    "**Question 2(a)** <br> {points: 1}  \n",
    "\n",
    "Load in the data, assigning the `air_date` column as  `Datetime64` dtype.     \n",
    "Save the dataframe as an object named `chopped`."
   ]
  },
  {
   "cell_type": "code",
   "execution_count": null,
   "metadata": {
    "deletable": false,
    "nbgrader": {
     "cell_type": "code",
     "checksum": "d1becce16c2732855b7c5f415bddde9a",
     "grade": false,
     "grade_id": "cell-88f46c5a55749a6c",
     "locked": false,
     "schema_version": 3,
     "solution": true,
     "task": false
    }
   },
   "outputs": [],
   "source": [
    "chopped = None\n",
    "\n",
    "# your code here\n",
    "raise NotImplementedError # No Answer - remove if you provide an answer"
   ]
  },
  {
   "cell_type": "code",
   "execution_count": null,
   "metadata": {
    "deletable": false,
    "editable": false,
    "nbgrader": {
     "cell_type": "code",
     "checksum": "cf2ae43e6249ae0a78ac808a4cfa4fd7",
     "grade": true,
     "grade_id": "cell-b7923cff39c4cd75",
     "locked": true,
     "points": 1,
     "schema_version": 3,
     "solution": false,
     "task": false
    }
   },
   "outputs": [],
   "source": [
    "t.test_2a(chopped)"
   ]
  },
  {
   "cell_type": "markdown",
   "metadata": {},
   "source": [
    "**Question 2(b)** <br> {points: 2}  \n",
    "\n",
    "Determine how long the show been airing for (in years) by looking at the earliest and latest air dates.\n",
    "\n",
    "Save the result as an object named `air_length_yrs`. "
   ]
  },
  {
   "cell_type": "code",
   "execution_count": null,
   "metadata": {
    "deletable": false,
    "nbgrader": {
     "cell_type": "code",
     "checksum": "7e0bab539b29d16e8362e4500156c254",
     "grade": false,
     "grade_id": "cell-35afcf11a98e882b",
     "locked": false,
     "schema_version": 3,
     "solution": true,
     "task": false
    }
   },
   "outputs": [],
   "source": [
    "air_length_yrs = None \n",
    "days_per_year = 365.25 # This is the total number of days per year including 0.25 to account for the leap year.\n",
    "\n",
    "\n",
    "\n",
    "# your code here\n",
    "raise NotImplementedError # No Answer - remove if you provide an answer\n",
    "\n",
    "\n",
    "air_length_yrs = round(air_length_yrs, 2) # This will round your answer to 2 decimal places. Do not delete! \n",
    "air_length_yrs"
   ]
  },
  {
   "cell_type": "code",
   "execution_count": null,
   "metadata": {
    "deletable": false,
    "editable": false,
    "nbgrader": {
     "cell_type": "code",
     "checksum": "22f5db9a60b2b98861bf87e2a27a1c42",
     "grade": true,
     "grade_id": "cell-aa1c0e1acc2be419",
     "locked": true,
     "points": 2,
     "schema_version": 3,
     "solution": false,
     "task": false
    }
   },
   "outputs": [],
   "source": [
    "# check that the function exists\n",
    "assert 'air_length_yrs' in globals(\n",
    "), \"Please make sure that your solution is named 'air_length_yrs'\"\n",
    "\n",
    "# This test has been intentionally hidden. It will be up to you to decide if your solution\n",
    "# is sufficiently good."
   ]
  },
  {
   "cell_type": "markdown",
   "metadata": {},
   "source": [
    "**Question 2(c)** <br> {points: 1}  \n",
    "\n",
    "How many days are between each of the 569 episodes?  \n",
    "Save this as an object named `days_apart`. \n",
    "\n",
    "*Hints:* \n",
    "- You may need to use `.diff()` and `days_apart` should have 568 rows.        \n",
    "- Here you are measuring time between episodes. `diff()` produces a dataframe that have a `NaT` value for the first row since there is no episode before it to calculate an interval from. We need to remove this row. Although there are 569 episodes, the number of intervals *between* episodes is 568.  \n"
   ]
  },
  {
   "cell_type": "code",
   "execution_count": null,
   "metadata": {
    "deletable": false,
    "nbgrader": {
     "cell_type": "code",
     "checksum": "ad5b4e474121926ea8fc3024a630f5a3",
     "grade": false,
     "grade_id": "cell-3f9dd8e88f540a44",
     "locked": false,
     "schema_version": 3,
     "solution": true,
     "task": false
    }
   },
   "outputs": [],
   "source": [
    "days_apart = None\n",
    "\n",
    "# your code here\n",
    "raise NotImplementedError # No Answer - remove if you provide an answer\n"
   ]
  },
  {
   "cell_type": "code",
   "execution_count": null,
   "metadata": {
    "deletable": false,
    "editable": false,
    "nbgrader": {
     "cell_type": "code",
     "checksum": "46dfea09fa2039983713bd05e66acf6f",
     "grade": true,
     "grade_id": "cell-3c041bdc6e09a568",
     "locked": true,
     "points": 1,
     "schema_version": 3,
     "solution": false,
     "task": false
    }
   },
   "outputs": [],
   "source": [
    "t.test_2c(days_apart)"
   ]
  },
  {
   "cell_type": "markdown",
   "metadata": {},
   "source": [
    "**Question 2(d)** <br> {points: 1}  \n",
    "\n",
    "Of these inter-episode intervals, what fraction of them were not aired on a weekly basis? \n",
    "\n",
    "Save the result in an object named `irregular_aired_fraction`.\n"
   ]
  },
  {
   "cell_type": "code",
   "execution_count": null,
   "metadata": {
    "deletable": false,
    "nbgrader": {
     "cell_type": "code",
     "checksum": "9b9a5edd57dd8bc176f9d40dc3132923",
     "grade": false,
     "grade_id": "cell-528e8ce3e2b59861",
     "locked": false,
     "schema_version": 3,
     "solution": true,
     "task": false
    }
   },
   "outputs": [],
   "source": [
    "irregular_aired_percent = None\n",
    "\n",
    "# your code here\n",
    "raise NotImplementedError # No Answer - remove if you provide an answer"
   ]
  },
  {
   "cell_type": "code",
   "execution_count": null,
   "metadata": {
    "deletable": false,
    "editable": false,
    "nbgrader": {
     "cell_type": "code",
     "checksum": "5c0a21caa5be4b6c53b0ed9db4a0c628",
     "grade": true,
     "grade_id": "cell-ad928e9679b8f5a0",
     "locked": true,
     "points": 1,
     "schema_version": 3,
     "solution": false,
     "task": false
    }
   },
   "outputs": [],
   "source": [
    "t.test_2d(irregular_aired_fraction)"
   ]
  },
  {
   "cell_type": "markdown",
   "metadata": {},
   "source": [
    "**Question 2(e)** <br> {points: 1}  \n",
    "\n",
    "Make a new dataframe named `chopped2` that contains an additional column named `weekday_aired` that specifies the day of the week that it was aired.\n",
    "\n",
    "*Hint: you'll need to used `dt.day_name()`* \n"
   ]
  },
  {
   "cell_type": "code",
   "execution_count": null,
   "metadata": {
    "deletable": false,
    "nbgrader": {
     "cell_type": "code",
     "checksum": "ea8befc1ce26a533b527a5bf8b82047c",
     "grade": false,
     "grade_id": "cell-69913dfd530de335",
     "locked": false,
     "schema_version": 3,
     "solution": true,
     "task": false
    }
   },
   "outputs": [],
   "source": [
    "chopped2 = None\n",
    "\n",
    "# your code here\n",
    "raise NotImplementedError # No Answer - remove if you provide an answer"
   ]
  },
  {
   "cell_type": "code",
   "execution_count": null,
   "metadata": {
    "deletable": false,
    "editable": false,
    "nbgrader": {
     "cell_type": "code",
     "checksum": "3ec3cf8bfeccab6275971d32f2ce07b6",
     "grade": true,
     "grade_id": "cell-68f5f90cd65b7862",
     "locked": true,
     "points": 1,
     "schema_version": 3,
     "solution": false,
     "task": false
    }
   },
   "outputs": [],
   "source": [
    "t.test_2e(chopped2)"
   ]
  },
  {
   "cell_type": "markdown",
   "metadata": {},
   "source": [
    "**Question 2(f)** <br> {points: 1}  \n",
    "\n",
    "Most Chopped episodes are aired on a `Tuesday`. How many were not? \n",
    "Save this value in an object name `irregular_airdays`.\n"
   ]
  },
  {
   "cell_type": "code",
   "execution_count": null,
   "metadata": {
    "deletable": false,
    "nbgrader": {
     "cell_type": "code",
     "checksum": "602739e2caf4049ec18b3f138706056e",
     "grade": false,
     "grade_id": "cell-e71011e93164f761",
     "locked": false,
     "schema_version": 3,
     "solution": true,
     "task": false
    }
   },
   "outputs": [],
   "source": [
    "irregular_airdays = None\n",
    "\n",
    "# your code here\n",
    "raise NotImplementedError # No Answer - remove if you provide an answer\n"
   ]
  },
  {
   "cell_type": "code",
   "execution_count": null,
   "metadata": {
    "deletable": false,
    "editable": false,
    "nbgrader": {
     "cell_type": "code",
     "checksum": "7a79b3f036e74b5c64c7b1f388e6be63",
     "grade": true,
     "grade_id": "cell-eb44cb00fd6dc68d",
     "locked": true,
     "points": 1,
     "schema_version": 3,
     "solution": false,
     "task": false
    }
   },
   "outputs": [],
   "source": [
    "t.test_2f(irregular_airdays)"
   ]
  },
  {
   "cell_type": "markdown",
   "metadata": {},
   "source": [
    "**Question 2(g)** <br> {points: 2}  \n",
    "\n",
    "How many of the 45 chopped seasons had a perfectly consistent schedule with each episode being released exactly on a weekly basis?\n",
    "Save this value in an object name `num_perfect_season`.\n",
    "\n",
    "*Hint:*\n",
    "\n",
    "* You may find some of the skills you used in 2(c) and 2(d) helpful here. \n",
    "* To loop over all the groups in a groupby object you can use the syntax `for name, group in data.groupby(['grouping_column']):`.\n",
    "* For a season to have a consistence airing schedule, both the max and min days between episodes would equal 7."
   ]
  },
  {
   "cell_type": "code",
   "execution_count": null,
   "metadata": {
    "deletable": false,
    "nbgrader": {
     "cell_type": "code",
     "checksum": "6e9f5c9216fe9511bd6d3c6385cb5d99",
     "grade": false,
     "grade_id": "cell-0f7e9ffda0ba08ae",
     "locked": false,
     "schema_version": 3,
     "solution": true,
     "task": false
    }
   },
   "outputs": [],
   "source": [
    "num_perfect_season = 0\n",
    "\n",
    "# your code here\n",
    "raise NotImplementedError # No Answer - remove if you provide an answer\n"
   ]
  },
  {
   "cell_type": "code",
   "execution_count": null,
   "metadata": {
    "deletable": false,
    "editable": false,
    "nbgrader": {
     "cell_type": "code",
     "checksum": "c0ceb99d0357185ce435b5907706198a",
     "grade": true,
     "grade_id": "cell-efe0bfc5d6967ba7",
     "locked": true,
     "points": 2,
     "schema_version": 3,
     "solution": false,
     "task": false
    }
   },
   "outputs": [],
   "source": [
    "t.test_2g(num_perfect_season)"
   ]
  },
  {
   "cell_type": "markdown",
   "metadata": {},
   "source": [
    "## 3. Cleaning a dataframe with Strings and Handling missing values"
   ]
  },
  {
   "cell_type": "markdown",
   "metadata": {},
   "source": [
    "**Question 3** <br> {points: 8}  \n",
    "\n",
    "Now that you have learned about string operations and an entry level of regular expressions, let's see you apply your skills to a real dataset. \n",
    "\n",
    "In this exercise, you will start with the dirty version of the `Gapminder` dataset that we've seen before. By \"dirty\" we mean there are some inconsistencies and irregularities in the dataset as one would more typically find with real world data.  Your task is to write a function named `clean_gapminder` that takes in this dataset as an argument, and returns a cleaned up dataframe. The goal of this exercise is to use Python code to clean up the `dirty_gapminder` to the point that it's identical to `clean_gapminder`. \n",
    "\n",
    "Note: in the real world you wouldn't have a `clean_gapminder` reference to compare to!\n",
    "\n",
    "Things you might want to do to clean up `dirty_gapminder`:\n",
    "\n",
    "1. We recommend first writing code that cleans this dataset and then moving it all into a function after. \n",
    "1. If there is missing data (NaNs or empty strings) fill it in with sensible values.\n",
    "1. Check that all values match those in `clean_gapminder` (e.g., check capitalization, spelling, grammar, etc).\n",
    "1. There may be entries that appear to have the exact same spelling and capitalization in both the dirty and clean gapminder datasets, but still don't match... Extra whitespace is often a frustrating (and invisible) problem when wrangling text data. You can use `print('**' + x + '**')` to identify any strings with whitespace and `Series.str.strip()` to trim unwanted whitespace around a string. \n",
    "1. When you are ready, test that your dirty dataframe matches the clean gapminder data using `df.equals()`.\n",
    "1. Since you are writing a function named `cleaned_gapminder`, our autograding tests will grade that your function contains certain code and returns the expected output.\n",
    "\n",
    "Hint: We've provided a unit test for you to compare the two dataframes after wranging. However, during your wrangling you can check the equality of individual elements in two dataframes using `df.eq()`. If your dataframes are `df1` and `df2`, you can check which rows are not equal using `df1[(~df2.eq(df1)).any(axis=1)]` (You've seen something of this nature in Module 3).\n",
    "\n"
   ]
  },
  {
   "cell_type": "code",
   "execution_count": null,
   "metadata": {},
   "outputs": [],
   "source": [
    "dirty = pd.read_csv('data/dirty_gapminder.csv')\n",
    "dirty.head()"
   ]
  },
  {
   "cell_type": "code",
   "execution_count": null,
   "metadata": {},
   "outputs": [],
   "source": [
    "clean = pd.read_csv('data/clean_gapminder.csv')\n",
    "clean.head()"
   ]
  },
  {
   "cell_type": "markdown",
   "metadata": {},
   "source": [
    "The code below shows that there are 28 rows in total that are not equal between the two dataframes."
   ]
  },
  {
   "cell_type": "code",
   "execution_count": null,
   "metadata": {},
   "outputs": [],
   "source": [
    "dirty[(~clean.eq(dirty)).any(axis=1)].shape"
   ]
  },
  {
   "cell_type": "code",
   "execution_count": null,
   "metadata": {
    "deletable": false,
    "nbgrader": {
     "cell_type": "code",
     "checksum": "53e698634889e4f5542e926c99751f37",
     "grade": false,
     "grade_id": "cell-91958e9802fb7ae9",
     "locked": false,
     "schema_version": 3,
     "solution": true,
     "task": false
    }
   },
   "outputs": [],
   "source": [
    "def cleaned_gapminder(dirty_df):\n",
    "    \n",
    "# your code here\n",
    "raise NotImplementedError # No Answer - remove if you provide an answer\n",
    "    \n",
    "    return dirty_df\n",
    "\n",
    "\n",
    "cleaned_data = cleaned_gapminder(dirty)\n",
    "assert cleaned_data.equals(clean), \"Dataframes are not the same!\""
   ]
  },
  {
   "cell_type": "code",
   "execution_count": null,
   "metadata": {
    "deletable": false,
    "editable": false,
    "nbgrader": {
     "cell_type": "code",
     "checksum": "2f5eb62647bcce88be97757fb7a626de",
     "grade": true,
     "grade_id": "cell-4d822c98c340d7d7",
     "locked": true,
     "points": 8,
     "schema_version": 3,
     "solution": false,
     "task": false
    }
   },
   "outputs": [],
   "source": [
    "t.test_3(cleaned_gapminder,dirty,clean)"
   ]
  },
  {
   "cell_type": "markdown",
   "metadata": {},
   "source": [
    "Before submitting your assignment please do the following:\n",
    "\n",
    "- Read through your solutions\n",
    "- **Restart your kernel and clear output and rerun your cells from top to bottom** \n",
    "- Makes sure that none of your code is broken \n",
    "- Verify that the tests from the questions you answered have obtained the output \"Success\"\n",
    "\n",
    "This is a simple way to make sure that you are submitting all the variables needed to mark the assignment. This method should help avoid losing marks due to changes in your environment.  "
   ]
  },
  {
   "cell_type": "markdown",
   "metadata": {},
   "source": [
    "You did it! You got to the end of all 8 assignments in Programming in Python for Data Science. We are all very proud of you here and are excited to see you translate everything you've learned into a final project! "
   ]
  },
  {
   "cell_type": "markdown",
   "metadata": {},
   "source": [
    "## Attributions\n",
    "- Gapminder Dataset - [Gapminder](https://www.gapminder.org/data/)\n",
    "- UBC's original STAT545 - [Stat545 by Jenny Bryan](https://stat545.com/)\n",
    "- MDS DSCI 523 - Data Wrangling course - [MDS's GitHub website](hhttps://ubc-mds.github.io/) \n",
    "- Chopped Dataset - [Kaggle](https://www.kaggle.com/jeffreybraun/chopped-10-years-of-episode-data)"
   ]
  },
  {
   "cell_type": "markdown",
   "metadata": {},
   "source": [
    "## Module Debriefing\n",
    "\n",
    "If this video is not showing up below, click on the cell and click the ▶ button in the toolbar above."
   ]
  },
  {
   "cell_type": "code",
   "execution_count": null,
   "metadata": {},
   "outputs": [],
   "source": [
    "from IPython.display import YouTubeVideo\n",
    "YouTubeVideo('PCBPzCFQwHs', width=854, height=480)"
   ]
  }
 ],
 "metadata": {
  "kernelspec": {
   "display_name": "Python 3",
   "language": "python",
   "name": "python3"
  },
  "language_info": {
   "codemirror_mode": {
    "name": "ipython",
    "version": 3
   },
   "file_extension": ".py",
   "mimetype": "text/x-python",
   "name": "python",
   "nbconvert_exporter": "python",
   "pygments_lexer": "ipython3",
   "version": "3.8.5"
  },
  "toc": {
   "base_numbering": 1,
   "nav_menu": {},
   "number_sections": true,
   "sideBar": true,
   "skip_h1_title": true,
   "title_cell": "Table of Contents",
   "title_sidebar": "Contents",
   "toc_cell": true,
   "toc_position": {},
   "toc_section_display": true,
   "toc_window_display": false
  }
 },
 "nbformat": 4,
 "nbformat_minor": 4
}
